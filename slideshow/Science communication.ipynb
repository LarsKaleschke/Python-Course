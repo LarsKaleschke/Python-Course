{
 "cells": [
  {
   "cell_type": "markdown",
   "metadata": {
    "slideshow": {
     "slide_type": "slide"
    }
   },
   "source": [
    "# Science communication and visualisation"
   ]
  },
  {
   "cell_type": "markdown",
   "metadata": {
    "slideshow": {
     "slide_type": "subslide"
    }
   },
   "source": [
    "## What are scientific facts?"
   ]
  },
  {
   "cell_type": "markdown",
   "metadata": {
    "slideshow": {
     "slide_type": "fragment"
    }
   },
   "source": [
    "Knowledge derived with [the scientific method](https://en.wikipedia.org/wiki/Scientific_method).\n",
    "\n",
    " * Theory\n",
    " * Empirical evidence"
   ]
  },
  {
   "cell_type": "markdown",
   "metadata": {
    "slideshow": {
     "slide_type": "subslide"
    }
   },
   "source": [
    "## Why do scientific facts matter?"
   ]
  },
  {
   "cell_type": "markdown",
   "metadata": {
    "slideshow": {
     "slide_type": "fragment"
    }
   },
   "source": [
    "Danger of\n",
    "\n",
    " * Antiscience\n",
    " * Fake news\n",
    " * Alternative facts"
   ]
  },
  {
   "cell_type": "markdown",
   "metadata": {
    "slideshow": {
     "slide_type": "slide"
    }
   },
   "source": [
    "## How to communicate scientific results?\n",
    "\n",
    "\n",
    " * [sharingscience.agu.org](https://sharingscience.agu.org/files/2016/11/S2-Tools-and-Tips-Flyer.pdf)\n",
    " * Visualisation\n"
   ]
  },
  {
   "cell_type": "markdown",
   "metadata": {
    "slideshow": {
     "slide_type": "slide"
    }
   },
   "source": [
    "# Screenshot from coverage of Rio Olympics opening ceremony\n",
    "\n",
    "\n",
    "\n",
    "<img src=\"http://www.climate-lab-book.ac.uk/files/2016/08/Rio_static.png\">\n",
    "\n",
    "Ed Hawkins http://www.climate-lab-book.ac.uk/2016/olympic-spiral/"
   ]
  },
  {
   "cell_type": "markdown",
   "metadata": {
    "slideshow": {
     "slide_type": "slide"
    }
   },
   "source": [
    "# Arctic Sea Ice Extent\n",
    "\n",
    "<img src=\"http://sites.uci.edu/zlabe/files/2017/02/moving.gif\">\n",
    "\n",
    "Graph by Zachary Labe, http://sites.uci.edu/zlabe/"
   ]
  },
  {
   "cell_type": "markdown",
   "metadata": {
    "slideshow": {
     "slide_type": "slide"
    }
   },
   "source": [
    "# Science visualisation\n",
    "\n",
    "Discuss:\n",
    "\n",
    " * What makes a visualisation look nice? "
   ]
  },
  {
   "cell_type": "markdown",
   "metadata": {
    "slideshow": {
     "slide_type": "subslide"
    }
   },
   "source": [
    "## Goal: create a nice graph and description\n",
    "\n",
    " * Select data\n",
    " * Analysis\n",
    " * Plot\n",
    " * Message "
   ]
  },
  {
   "cell_type": "markdown",
   "metadata": {
    "slideshow": {
     "slide_type": "subslide"
    }
   },
   "source": [
    "## Requirements\n",
    "\n",
    " * Final result: plot and short message\n",
    " * Oral presentation\n",
    " * Report (notebook with description)"
   ]
  },
  {
   "cell_type": "code",
   "execution_count": 4,
   "metadata": {
    "collapsed": false,
    "slideshow": {
     "slide_type": "slide"
    }
   },
   "outputs": [
    {
     "name": "stdout",
     "output_type": "stream",
     "text": [
      "[NbConvertApp] Converting notebook Science communication.ipynb to slides\n",
      "[NbConvertApp] Writing 256448 bytes to Science communication.slides.html\n"
     ]
    }
   ],
   "source": [
    "!jupyter-nbconvert Science\\ communication.ipynb --to slides --reveal-prefix=reveal.js"
   ]
  }
 ],
 "metadata": {
  "celltoolbar": "Slideshow",
  "kernelspec": {
   "display_name": "Python 3",
   "language": "python",
   "name": "python3"
  },
  "language_info": {
   "codemirror_mode": {
    "name": "ipython",
    "version": 3
   },
   "file_extension": ".py",
   "mimetype": "text/x-python",
   "name": "python",
   "nbconvert_exporter": "python",
   "pygments_lexer": "ipython3",
   "version": "3.5.0"
  }
 },
 "nbformat": 4,
 "nbformat_minor": 2
}
