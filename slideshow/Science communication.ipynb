{
 "cells": [
  {
   "cell_type": "markdown",
   "metadata": {
    "slideshow": {
     "slide_type": "slide"
    }
   },
   "source": [
    "# Science communication and visualisation"
   ]
  },
  {
   "cell_type": "markdown",
   "metadata": {
    "slideshow": {
     "slide_type": "subslide"
    }
   },
   "source": [
    "## What are scientific facts?"
   ]
  },
  {
   "cell_type": "markdown",
   "metadata": {
    "slideshow": {
     "slide_type": "fragment"
    }
   },
   "source": [
    "Knowledge derived with [the scientific method](https://en.wikipedia.org/wiki/Scientific_method).\n",
    "\n",
    " * Theory\n",
    " * Empirical evidence"
   ]
  },
  {
   "cell_type": "markdown",
   "metadata": {
    "slideshow": {
     "slide_type": "slide"
    }
   },
   "source": [
    "## How to communicate scientific results?\n",
    "\n",
    "\n",
    " * [sharingscience.agu.org](https://sharingscience.agu.org/files/2016/11/S2-Tools-and-Tips-Flyer.pdf)\n",
    " * Visualisation\n"
   ]
  },
  {
   "cell_type": "markdown",
   "metadata": {
    "slideshow": {
     "slide_type": "slide"
    }
   },
   "source": [
    "<img src=\"http://sites.uci.edu/zlabe/files/2017/07/SeaIceTrends.gif\" >\n",
    "\n",
    "Graph by Zachary Labe, http://sites.uci.edu/zlabe/"
   ]
  },
  {
   "cell_type": "markdown",
   "metadata": {
    "slideshow": {
     "slide_type": "slide"
    }
   },
   "source": [
    "\n",
    "<img src=\"http://sites.uci.edu/zlabe/files/2017/10/landice_moving.gif\" >"
   ]
  },
  {
   "cell_type": "markdown",
   "metadata": {
    "slideshow": {
     "slide_type": "slide"
    }
   },
   "source": [
    "http://sites.uci.edu/zlabe/arctic-sea-ice-figures/"
   ]
  },
  {
   "cell_type": "markdown",
   "metadata": {
    "slideshow": {
     "slide_type": "slide"
    }
   },
   "source": [
    "<img src=\"http://www.climate-lab-book.ac.uk/files/2016/06/spiral_2017_large.gif\">\n",
    "\n",
    "Image from Ed Hawkins http://www.climate-lab-book.ac.uk/"
   ]
  },
  {
   "cell_type": "markdown",
   "metadata": {
    "slideshow": {
     "slide_type": "slide"
    }
   },
   "source": [
    "# Colorbars: The end of the rainbow\n",
    "\n",
    "http://www.climate-lab-book.ac.uk/2014/end-of-the-rainbow/\n",
    "    \n",
    "<img src=\"http://www.climate-lab-book.ac.uk/files/2014/11/rainbow-300x41.png\">\n",
    "\n",
    "Discuss: why not to use this rainbow colorbar?"
   ]
  },
  {
   "cell_type": "markdown",
   "metadata": {
    "slideshow": {
     "slide_type": "subslide"
    }
   },
   "source": [
    "# Beautiful colormaps for oceanography: cmocean\n",
    "\n",
    "http://matplotlib.org/cmocean/\n"
   ]
  },
  {
   "cell_type": "markdown",
   "metadata": {
    "slideshow": {
     "slide_type": "subslide"
    }
   },
   "source": [
    "<img src=\"http://matplotlib.org/cmocean//index-1.png\" width=300px>"
   ]
  },
  {
   "cell_type": "markdown",
   "metadata": {
    "slideshow": {
     "slide_type": "slide"
    }
   },
   "source": [
    "# Science visualisation\n",
    "\n",
    "Discuss:\n",
    "\n",
    " * What makes a good data visualisation? "
   ]
  },
  {
   "cell_type": "markdown",
   "metadata": {
    "slideshow": {
     "slide_type": "subslide"
    }
   },
   "source": [
    "## Goal: create a nice graph and description\n",
    "\n",
    " * Select data\n",
    "  * Time series\n",
    "  * 2-D \n",
    "  * 3-D \n",
    " * Analysis\n",
    "  * Statistical trend, significance\n",
    "  * Model fit\n",
    " * Plot \n",
    "  * Black and white \n",
    "  * Color\n",
    " * Key message \n",
    "  * Short and concise abstract\n",
    "  * Twitter 240 characters"
   ]
  },
  {
   "cell_type": "markdown",
   "metadata": {
    "slideshow": {
     "slide_type": "subslide"
    }
   },
   "source": [
    "## Requirements\n",
    "\n",
    " * Final result: nice plot with a key message\n",
    " * Oral presentation\n",
    " * Report (notebook with description)"
   ]
  }
 ],
 "metadata": {
  "celltoolbar": "Slideshow",
  "kernelspec": {
   "display_name": "Python 3",
   "language": "python",
   "name": "python3"
  },
  "language_info": {
   "codemirror_mode": {
    "name": "ipython",
    "version": 3
   },
   "file_extension": ".py",
   "mimetype": "text/x-python",
   "name": "python",
   "nbconvert_exporter": "python",
   "pygments_lexer": "ipython3",
   "version": "3.6.0"
  }
 },
 "nbformat": 4,
 "nbformat_minor": 2
}
