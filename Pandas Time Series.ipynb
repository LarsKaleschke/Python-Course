{
 "cells": [
  {
   "cell_type": "markdown",
   "metadata": {},
   "source": [
    "# Time series analysis with Pandas \n",
    "\n",
    "In this session we learn how to use Pandas for time series analysis. The exercise is to read in meteorological data from a table and to calculate anomalies. \n",
    "\n",
    "The meteorological data used for the following example are available here\n",
    "http://icdc.zmaw.de/daten/atmosphere/dwd-station.html\n",
    "\n",
    "Suggested textbooks for Pandas \n",
    "\n",
    " * http://dx.doi.org/10.1007/978-1-4842-0958-5 Python Data Analytics\n",
    "\n",
    " * https://github.com/wesm/pydata-book Python for data analysis\n",
    "\n",
    "\n",
    "## Modules\n",
    "\n",
    "First we import some modules"
   ]
  },
  {
   "cell_type": "code",
   "execution_count": 1,
   "metadata": {},
   "outputs": [
    {
     "name": "stdout",
     "output_type": "stream",
     "text": [
      "Populating the interactive namespace from numpy and matplotlib\n"
     ]
    }
   ],
   "source": [
    "%pylab inline\n",
    "import pandas as pd"
   ]
  },
  {
   "cell_type": "markdown",
   "metadata": {},
   "source": [
    "## Read data from table to Pandas DataFrame object"
   ]
  },
  {
   "cell_type": "code",
   "execution_count": 2,
   "metadata": {},
   "outputs": [
    {
     "data": {
      "text/html": [
       "<div>\n",
       "<style>\n",
       "    .dataframe thead tr:only-child th {\n",
       "        text-align: right;\n",
       "    }\n",
       "\n",
       "    .dataframe thead th {\n",
       "        text-align: left;\n",
       "    }\n",
       "\n",
       "    .dataframe tbody tr th {\n",
       "        vertical-align: top;\n",
       "    }\n",
       "</style>\n",
       "<table border=\"1\" class=\"dataframe\">\n",
       "  <thead>\n",
       "    <tr style=\"text-align: right;\">\n",
       "      <th></th>\n",
       "      <th>Jahr_ Monat_ Tag</th>\n",
       "      <th>Tagesmittel der Temperatur der Luft in 2m Hoehe (grad C)</th>\n",
       "    </tr>\n",
       "  </thead>\n",
       "  <tbody>\n",
       "    <tr>\n",
       "      <th>0</th>\n",
       "      <td>1891-01-01</td>\n",
       "      <td>-10.7</td>\n",
       "    </tr>\n",
       "    <tr>\n",
       "      <th>1</th>\n",
       "      <td>1891-01-02</td>\n",
       "      <td>-7.6</td>\n",
       "    </tr>\n",
       "    <tr>\n",
       "      <th>2</th>\n",
       "      <td>1891-01-03</td>\n",
       "      <td>-10.3</td>\n",
       "    </tr>\n",
       "    <tr>\n",
       "      <th>3</th>\n",
       "      <td>1891-01-04</td>\n",
       "      <td>-1.3</td>\n",
       "    </tr>\n",
       "    <tr>\n",
       "      <th>4</th>\n",
       "      <td>1891-01-05</td>\n",
       "      <td>-4.1</td>\n",
       "    </tr>\n",
       "  </tbody>\n",
       "</table>\n",
       "</div>"
      ],
      "text/plain": [
       "   Jahr_ Monat_ Tag  Tagesmittel der Temperatur der Luft in 2m Hoehe (grad C)\n",
       "0        1891-01-01                                              -10.7       \n",
       "1        1891-01-02                                               -7.6       \n",
       "2        1891-01-03                                              -10.3       \n",
       "3        1891-01-04                                               -1.3       \n",
       "4        1891-01-05                                               -4.1       "
      ]
     },
     "execution_count": 2,
     "metadata": {},
     "output_type": "execute_result"
    }
   ],
   "source": [
    "fn='dwdstation_hamburg_fuhlsbuettel_kl_10147.csv'\n",
    "DF=pd.read_csv(fn,encoding = \"ISO-8859-1\",usecols=[6,7,8,15],parse_dates=[[0,1,2]])\n",
    "DF.head()"
   ]
  },
  {
   "cell_type": "markdown",
   "metadata": {},
   "source": [
    "## Rename columns"
   ]
  },
  {
   "cell_type": "code",
   "execution_count": 3,
   "metadata": {},
   "outputs": [
    {
     "data": {
      "text/html": [
       "<div>\n",
       "<style>\n",
       "    .dataframe thead tr:only-child th {\n",
       "        text-align: right;\n",
       "    }\n",
       "\n",
       "    .dataframe thead th {\n",
       "        text-align: left;\n",
       "    }\n",
       "\n",
       "    .dataframe tbody tr th {\n",
       "        vertical-align: top;\n",
       "    }\n",
       "</style>\n",
       "<table border=\"1\" class=\"dataframe\">\n",
       "  <thead>\n",
       "    <tr style=\"text-align: right;\">\n",
       "      <th></th>\n",
       "      <th>Date</th>\n",
       "      <th>T</th>\n",
       "    </tr>\n",
       "  </thead>\n",
       "  <tbody>\n",
       "    <tr>\n",
       "      <th>0</th>\n",
       "      <td>1891-01-01</td>\n",
       "      <td>-10.7</td>\n",
       "    </tr>\n",
       "    <tr>\n",
       "      <th>1</th>\n",
       "      <td>1891-01-02</td>\n",
       "      <td>-7.6</td>\n",
       "    </tr>\n",
       "    <tr>\n",
       "      <th>2</th>\n",
       "      <td>1891-01-03</td>\n",
       "      <td>-10.3</td>\n",
       "    </tr>\n",
       "    <tr>\n",
       "      <th>3</th>\n",
       "      <td>1891-01-04</td>\n",
       "      <td>-1.3</td>\n",
       "    </tr>\n",
       "    <tr>\n",
       "      <th>4</th>\n",
       "      <td>1891-01-05</td>\n",
       "      <td>-4.1</td>\n",
       "    </tr>\n",
       "  </tbody>\n",
       "</table>\n",
       "</div>"
      ],
      "text/plain": [
       "        Date       T\n",
       "0 1891-01-01   -10.7\n",
       "1 1891-01-02    -7.6\n",
       "2 1891-01-03   -10.3\n",
       "3 1891-01-04    -1.3\n",
       "4 1891-01-05    -4.1"
      ]
     },
     "execution_count": 3,
     "metadata": {},
     "output_type": "execute_result"
    }
   ],
   "source": [
    "DF.columns=['Date','T'] # Make column names shorter\n",
    "DF.head()"
   ]
  },
  {
   "cell_type": "markdown",
   "metadata": {},
   "source": [
    "## Determine and change data type"
   ]
  },
  {
   "cell_type": "code",
   "execution_count": 4,
   "metadata": {},
   "outputs": [
    {
     "data": {
      "text/plain": [
       "Date    datetime64[ns]\n",
       "T               object\n",
       "dtype: object"
      ]
     },
     "execution_count": 4,
     "metadata": {},
     "output_type": "execute_result"
    }
   ],
   "source": [
    "DF.dtypes"
   ]
  },
  {
   "cell_type": "markdown",
   "metadata": {},
   "source": [
    "### <font color=red>Be careful, T is not yet a numeric type, it was read in as a string object. This would prevent numeric calculation and plotting!</font>"
   ]
  },
  {
   "cell_type": "code",
   "execution_count": 5,
   "metadata": {},
   "outputs": [],
   "source": [
    "DF['T']=DF['T'].astype(float)"
   ]
  },
  {
   "cell_type": "code",
   "execution_count": 6,
   "metadata": {},
   "outputs": [
    {
     "data": {
      "text/plain": [
       "Date    datetime64[ns]\n",
       "T              float64\n",
       "dtype: object"
      ]
     },
     "execution_count": 6,
     "metadata": {},
     "output_type": "execute_result"
    }
   ],
   "source": [
    "DF.dtypes"
   ]
  },
  {
   "cell_type": "markdown",
   "metadata": {},
   "source": [
    "## Create Pandas Datetime and Series objects"
   ]
  },
  {
   "cell_type": "code",
   "execution_count": 7,
   "metadata": {},
   "outputs": [],
   "source": [
    "dates=pd.to_datetime(DF['Date'].values)\n",
    "T=pd.Series(DF['T'].values,index=dates) # Create a time series with date index"
   ]
  },
  {
   "cell_type": "code",
   "execution_count": 8,
   "metadata": {},
   "outputs": [
    {
     "data": {
      "text/plain": [
       "Text(0.5,1,'DWD Station Hamburg Fuhlsbüttel')"
      ]
     },
     "execution_count": 8,
     "metadata": {},
     "output_type": "execute_result"
    },
    {
     "data": {
      "image/png": "[encoded data removed]",
      "text/plain": [
       "<matplotlib.figure.Figure at 0x7fe113f75d68>"
      ]
     },
     "metadata": {},
     "output_type": "display_data"
    }
   ],
   "source": [
    "T['2017-01-01':].plot() # Slicing works with date index!\n",
    "ylabel('Temperature [°C]')\n",
    "title('DWD Station Hamburg Fuhlsbüttel')"
   ]
  },
  {
   "cell_type": "markdown",
   "metadata": {},
   "source": [
    "## Generate periods for averaging\n",
    "\n",
    "|Code | Offset | Description   |\n",
    "|-----|--------|---------------|\n",
    "|D    | Day    | Calendar daily|\n",
    "|B    | BusinessDay| Business daily|\n",
    "|H    |Hour    |Hourly |\n",
    "|T or min| Minute | Minutely |\n",
    "|S |Second |Secondly |\n",
    "|L or ms| Milli |Millisecond |\n",
    "|U |Micro | Microsecond |\n",
    "|M |MonthEnd |Last calendar day of month|\n",
    "|BM |BusinessMonthEnd | Last business day (weekday) of month|\n",
    "|MS |MonthBegin | First calendar day of month|\n",
    "|BMS|BusinessMonthBegin| First weekday of month|\n",
    "|W-MON, W-TUE, ...| Week | Weekly on given day of week|\n",
    "|A-JAN, A-FEB, ...|YearEnd| Annual dates anchored on last calendar day of given month|\n",
    "|AS-JAN, AS-FEB, ...| YearBegin |Annual dates anchored on first day of given month|\n"
   ]
  },
  {
   "cell_type": "code",
   "execution_count": 9,
   "metadata": {},
   "outputs": [
    {
     "data": {
      "text/plain": [
       "PeriodIndex(['1891-01', '1891-01', '1891-01', '1891-01', '1891-01', '1891-01',\n",
       "             '1891-01', '1891-01', '1891-01', '1891-01',\n",
       "             ...\n",
       "             '2017-11', '2017-11', '2017-11', '2017-11', '2017-11', '2017-11',\n",
       "             '2017-12', '2017-12', '2017-12', '2017-12'],\n",
       "            dtype='period[M]', length=46359, freq='M')"
      ]
     },
     "execution_count": 9,
     "metadata": {},
     "output_type": "execute_result"
    }
   ],
   "source": [
    "month_index=dates.to_period(freq='M')\n",
    "month_index"
   ]
  },
  {
   "cell_type": "markdown",
   "metadata": {},
   "source": [
    "## Add period to data frame"
   ]
  },
  {
   "cell_type": "code",
   "execution_count": 10,
   "metadata": {},
   "outputs": [],
   "source": [
    "DF['month index']=month_index.month\n",
    "DF['year-month']=month_index"
   ]
  },
  {
   "cell_type": "code",
   "execution_count": 11,
   "metadata": {},
   "outputs": [
    {
     "data": {
      "text/html": [
       "<div>\n",
       "<style>\n",
       "    .dataframe thead tr:only-child th {\n",
       "        text-align: right;\n",
       "    }\n",
       "\n",
       "    .dataframe thead th {\n",
       "        text-align: left;\n",
       "    }\n",
       "\n",
       "    .dataframe tbody tr th {\n",
       "        vertical-align: top;\n",
       "    }\n",
       "</style>\n",
       "<table border=\"1\" class=\"dataframe\">\n",
       "  <thead>\n",
       "    <tr style=\"text-align: right;\">\n",
       "      <th></th>\n",
       "      <th>Date</th>\n",
       "      <th>T</th>\n",
       "      <th>month index</th>\n",
       "      <th>year-month</th>\n",
       "    </tr>\n",
       "  </thead>\n",
       "  <tbody>\n",
       "    <tr>\n",
       "      <th>46354</th>\n",
       "      <td>2017-11-30</td>\n",
       "      <td>2.6</td>\n",
       "      <td>11</td>\n",
       "      <td>2017-11</td>\n",
       "    </tr>\n",
       "    <tr>\n",
       "      <th>46355</th>\n",
       "      <td>2017-12-01</td>\n",
       "      <td>1.8</td>\n",
       "      <td>12</td>\n",
       "      <td>2017-12</td>\n",
       "    </tr>\n",
       "    <tr>\n",
       "      <th>46356</th>\n",
       "      <td>2017-12-02</td>\n",
       "      <td>0.3</td>\n",
       "      <td>12</td>\n",
       "      <td>2017-12</td>\n",
       "    </tr>\n",
       "    <tr>\n",
       "      <th>46357</th>\n",
       "      <td>2017-12-03</td>\n",
       "      <td>3.0</td>\n",
       "      <td>12</td>\n",
       "      <td>2017-12</td>\n",
       "    </tr>\n",
       "    <tr>\n",
       "      <th>46358</th>\n",
       "      <td>2017-12-04</td>\n",
       "      <td>5.3</td>\n",
       "      <td>12</td>\n",
       "      <td>2017-12</td>\n",
       "    </tr>\n",
       "  </tbody>\n",
       "</table>\n",
       "</div>"
      ],
      "text/plain": [
       "            Date    T  month index year-month\n",
       "46354 2017-11-30  2.6           11    2017-11\n",
       "46355 2017-12-01  1.8           12    2017-12\n",
       "46356 2017-12-02  0.3           12    2017-12\n",
       "46357 2017-12-03  3.0           12    2017-12\n",
       "46358 2017-12-04  5.3           12    2017-12"
      ]
     },
     "execution_count": 11,
     "metadata": {},
     "output_type": "execute_result"
    }
   ],
   "source": [
    "DF.tail()"
   ]
  },
  {
   "cell_type": "markdown",
   "metadata": {},
   "source": [
    "## Caculate seasonal cycle and monthly means "
   ]
  },
  {
   "cell_type": "code",
   "execution_count": 12,
   "metadata": {},
   "outputs": [],
   "source": [
    "seasonal=DF.groupby('month index').mean()"
   ]
  },
  {
   "cell_type": "code",
   "execution_count": 13,
   "metadata": {},
   "outputs": [
    {
     "data": {
      "text/plain": [
       "<matplotlib.axes._subplots.AxesSubplot at 0x7fe113f83a58>"
      ]
     },
     "execution_count": 13,
     "metadata": {},
     "output_type": "execute_result"
    },
    {
     "data": {
      "image/png": "[encoded data removed]",
      "text/plain": [
       "<matplotlib.figure.Figure at 0x7fe113f75d30>"
      ]
     },
     "metadata": {},
     "output_type": "display_data"
    }
   ],
   "source": [
    "seasonal.plot()"
   ]
  },
  {
   "cell_type": "code",
   "execution_count": 14,
   "metadata": {},
   "outputs": [],
   "source": [
    "monthly_means=DF.groupby('year-month')['T'].mean()"
   ]
  },
  {
   "cell_type": "code",
   "execution_count": 15,
   "metadata": {},
   "outputs": [
    {
     "data": {
      "text/plain": [
       "year-month\n",
       "1891-01    -3.664516\n",
       "1891-02     0.682143\n",
       "1891-03     2.129032\n",
       "1891-04     5.720000\n",
       "1891-05    12.074194\n",
       "Freq: M, Name: T, dtype: float64"
      ]
     },
     "execution_count": 15,
     "metadata": {},
     "output_type": "execute_result"
    }
   ],
   "source": [
    "monthly_means.head()"
   ]
  },
  {
   "cell_type": "code",
   "execution_count": 16,
   "metadata": {},
   "outputs": [],
   "source": [
    "DF_monthly=pd.DataFrame({'Date':monthly_means.index,'T':monthly_means.values})"
   ]
  },
  {
   "cell_type": "code",
   "execution_count": 17,
   "metadata": {},
   "outputs": [
    {
     "data": {
      "text/html": [
       "<div>\n",
       "<style>\n",
       "    .dataframe thead tr:only-child th {\n",
       "        text-align: right;\n",
       "    }\n",
       "\n",
       "    .dataframe thead th {\n",
       "        text-align: left;\n",
       "    }\n",
       "\n",
       "    .dataframe tbody tr th {\n",
       "        vertical-align: top;\n",
       "    }\n",
       "</style>\n",
       "<table border=\"1\" class=\"dataframe\">\n",
       "  <thead>\n",
       "    <tr style=\"text-align: right;\">\n",
       "      <th></th>\n",
       "      <th>Date</th>\n",
       "      <th>T</th>\n",
       "    </tr>\n",
       "  </thead>\n",
       "  <tbody>\n",
       "    <tr>\n",
       "      <th>0</th>\n",
       "      <td>1891-01</td>\n",
       "      <td>-3.664516</td>\n",
       "    </tr>\n",
       "    <tr>\n",
       "      <th>1</th>\n",
       "      <td>1891-02</td>\n",
       "      <td>0.682143</td>\n",
       "    </tr>\n",
       "    <tr>\n",
       "      <th>2</th>\n",
       "      <td>1891-03</td>\n",
       "      <td>2.129032</td>\n",
       "    </tr>\n",
       "    <tr>\n",
       "      <th>3</th>\n",
       "      <td>1891-04</td>\n",
       "      <td>5.720000</td>\n",
       "    </tr>\n",
       "    <tr>\n",
       "      <th>4</th>\n",
       "      <td>1891-05</td>\n",
       "      <td>12.074194</td>\n",
       "    </tr>\n",
       "  </tbody>\n",
       "</table>\n",
       "</div>"
      ],
      "text/plain": [
       "     Date          T\n",
       "0 1891-01  -3.664516\n",
       "1 1891-02   0.682143\n",
       "2 1891-03   2.129032\n",
       "3 1891-04   5.720000\n",
       "4 1891-05  12.074194"
      ]
     },
     "execution_count": 17,
     "metadata": {},
     "output_type": "execute_result"
    }
   ],
   "source": [
    "DF_monthly.head()"
   ]
  },
  {
   "cell_type": "markdown",
   "metadata": {},
   "source": [
    "## Calculate anomalies\n",
    "\n",
    "Not sure if there is  better function?"
   ]
  },
  {
   "cell_type": "code",
   "execution_count": 18,
   "metadata": {},
   "outputs": [
    {
     "data": {
      "text/html": [
       "<div>\n",
       "<style>\n",
       "    .dataframe thead tr:only-child th {\n",
       "        text-align: right;\n",
       "    }\n",
       "\n",
       "    .dataframe thead th {\n",
       "        text-align: left;\n",
       "    }\n",
       "\n",
       "    .dataframe tbody tr th {\n",
       "        vertical-align: top;\n",
       "    }\n",
       "</style>\n",
       "<table border=\"1\" class=\"dataframe\">\n",
       "  <thead>\n",
       "    <tr style=\"text-align: right;\">\n",
       "      <th></th>\n",
       "      <th>Date</th>\n",
       "      <th>T</th>\n",
       "      <th>seasonal</th>\n",
       "      <th>Anomaly</th>\n",
       "    </tr>\n",
       "  </thead>\n",
       "  <tbody>\n",
       "    <tr>\n",
       "      <th>0</th>\n",
       "      <td>1891-01</td>\n",
       "      <td>-3.664516</td>\n",
       "      <td>0.710897</td>\n",
       "      <td>-4.375413</td>\n",
       "    </tr>\n",
       "    <tr>\n",
       "      <th>1</th>\n",
       "      <td>1891-02</td>\n",
       "      <td>0.682143</td>\n",
       "      <td>1.195121</td>\n",
       "      <td>-0.512978</td>\n",
       "    </tr>\n",
       "    <tr>\n",
       "      <th>2</th>\n",
       "      <td>1891-03</td>\n",
       "      <td>2.129032</td>\n",
       "      <td>3.932309</td>\n",
       "      <td>-1.803277</td>\n",
       "    </tr>\n",
       "    <tr>\n",
       "      <th>3</th>\n",
       "      <td>1891-04</td>\n",
       "      <td>5.720000</td>\n",
       "      <td>7.877323</td>\n",
       "      <td>-2.157323</td>\n",
       "    </tr>\n",
       "    <tr>\n",
       "      <th>4</th>\n",
       "      <td>1891-05</td>\n",
       "      <td>12.074194</td>\n",
       "      <td>12.463043</td>\n",
       "      <td>-0.388849</td>\n",
       "    </tr>\n",
       "  </tbody>\n",
       "</table>\n",
       "</div>"
      ],
      "text/plain": [
       "     Date          T   seasonal   Anomaly\n",
       "0 1891-01  -3.664516   0.710897 -4.375413\n",
       "1 1891-02   0.682143   1.195121 -0.512978\n",
       "2 1891-03   2.129032   3.932309 -1.803277\n",
       "3 1891-04   5.720000   7.877323 -2.157323\n",
       "4 1891-05  12.074194  12.463043 -0.388849"
      ]
     },
     "execution_count": 18,
     "metadata": {},
     "output_type": "execute_result"
    }
   ],
   "source": [
    "years=int(len(DF_monthly)/12)\n",
    "DF_monthly['seasonal']=reshape(repeat(seasonal.values,years),(12,years)).T.flatten() # Tricky\n",
    "# We repeat the seasonal cycle year by year\n",
    "\n",
    "# Calculate anomalies\n",
    "DF_monthly['Anomaly']=DF_monthly['T']-DF_monthly['seasonal']\n",
    "DF_monthly.head()"
   ]
  },
  {
   "cell_type": "code",
   "execution_count": 19,
   "metadata": {},
   "outputs": [
    {
     "data": {
      "text/plain": [
       "<matplotlib.legend.Legend at 0x7fe10fff8f60>"
      ]
     },
     "execution_count": 19,
     "metadata": {},
     "output_type": "execute_result"
    },
    {
     "data": {
      "image/png": "[encoded data removed]",
      "text/plain": [
       "<matplotlib.figure.Figure at 0x7fe113f7d2e8>"
      ]
     },
     "metadata": {},
     "output_type": "display_data"
    }
   ],
   "source": [
    "#Convert to Series\n",
    "T_anom=pd.Series(DF_monthly['Anomaly'].values,index=DF_monthly['Date'])\n",
    "\n",
    "# Plot\n",
    "T_anom.plot(label='Monthly anomalies')\n",
    "T_anom.rolling(12*10,center=True).mean().plot(label='10 years rolling mean')\n",
    "legend()"
   ]
  }
 ],
 "metadata": {
  "kernelspec": {
   "display_name": "Python 3",
   "language": "python",
   "name": "python3"
  },
  "language_info": {
   "codemirror_mode": {
    "name": "ipython",
    "version": 3
   },
   "file_extension": ".py",
   "mimetype": "text/x-python",
   "name": "python",
   "nbconvert_exporter": "python",
   "pygments_lexer": "ipython3",
   "version": "3.6.3"
  }
 },
 "nbformat": 4,
 "nbformat_minor": 2
}
