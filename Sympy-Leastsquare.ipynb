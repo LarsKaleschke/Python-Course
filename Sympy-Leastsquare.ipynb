{
 "cells": [
  {
   "cell_type": "markdown",
   "metadata": {},
   "source": [
    "# Linear Regression\n",
    "## Problem\n",
    "\n",
    "Data values $d_i\\pm \\sigma_i$ are given at the positions $x_i$ $(i=1 .. N)$. The problem is to find the parameters of the linear model $$\\fbox{f=a x +b}$$ that is the \"best\" or \"optimal\" representation of the data. Thereby we shall account for the uncertainty/error of the individual data points.\n",
    "\n",
    "The error  $e_i$ for the single data points $d_i$ is given through the difference to the model line\n",
    "\n",
    "$$e_i=f_i-d_i$$\n",
    "\n",
    "We have an overdetermined equation system with two unknown parameters $a$ and $b$ and $N>2$ known values."
   ]
  },
  {
   "cell_type": "code",
   "execution_count": 13,
   "metadata": {
    "collapsed": false
   },
   "outputs": [
    {
     "data": {
      "image/png": "[encoded data removed]",
      "text/plain": [
       "<matplotlib.figure.Figure at 0x7f61741d8be0>"
      ]
     },
     "metadata": {},
     "output_type": "display_data"
    }
   ],
   "source": [
    "Fig1()"
   ]
  },
  {
   "cell_type": "markdown",
   "metadata": {},
   "source": [
    "## Least-Squares Method\n",
    "\n",
    "The goodness of the fit is given through the sum of the squared differences, the error function $F$\n",
    "\n",
    "$$\n",
    "F(a,b)=\\sum_{i=1}^{N} \\frac{e_i^2}{\\sigma_i^2}\n",
    "$$\n",
    "\n",
    "### Goal\n",
    "\n",
    "The problem is to find the special parameters $\\hat{a},\\hat{b}$ for the minimum of $F(\\hat{a},\\hat{b})$ \n",
    "\n",
    "### Method\n",
    "\n",
    "Conditions for the minimum of $F$:\n",
    "$$\n",
    "\\frac{\\partial F}{\\partial a}=0\n",
    "$$\n",
    "\n",
    "$$\n",
    "\\frac{\\partial F}{\\partial b}=0\n",
    "$$\n",
    "\n",
    "with\n",
    "\n",
    "$$\n",
    "F(a,b)=\\sum_{i=1}^{N} \\frac{e_i^2}{\\sigma_i^2}=\\sum_{i=1}^{N} \\frac{(ax_i+b-d_i)^2 }{\\sigma_i^2}\\\\\n",
    "=\\sum_{i=1}^{N} \\frac{1}{\\sigma_i^2} ( a^2 x_i^2 + 2 a b x_i - 2 a d_i x_i + b^2 - 2 b d_i + d_i^2 )\n",
    "$$\n",
    "\n",
    "## Solution for the optimal fit\n",
    "\n",
    "The solution for the parameters of the optimal linear model $f=\\hat{a} x + \\hat{b}$ follows from the derivatives\n",
    "\n",
    "$$\n",
    "\\frac{\\partial F}{\\partial a}=0=\\underbrace{(\\sum_{i=1}^{N} \\frac{x_i^2 }{\\sigma_i^2})}_{\\alpha} \\hat{a} + \\underbrace{(\\sum_{i=1}^{N} \\frac{x_i }{\\sigma_i^2})}_{\\beta} \\hat{b} - \\underbrace{(\\sum_{i=1}^{N} \\frac{x_i d_i }{\\sigma_i^2})}_{\\gamma}  \n",
    "$$\n",
    "\n",
    "\n",
    "$$\n",
    "\\frac{\\partial F}{\\partial b}=0=(\\sum_{i=1}^{N} \\frac{x_i }{\\sigma_i^2}) \\hat{a} + (\\sum_{i=1}^{N} \\frac{1 }{\\sigma_i^2}) \\hat{b} - (\\sum_{i=1}^{N} \\frac{d_i }{\\sigma_i^2})\n",
    "$$\n",
    "\n",
    "We simplify with  $\\alpha=\\sum \\frac{x_i^2 }{\\sigma_i^2}$, $\\beta=\\sum \\frac{x_i }{\\sigma_i^2}$, $\\gamma=\\sum \\frac{x_i d_i }{\\sigma_i^2}$, $\\delta=\\sum \\frac{d_i }{\\sigma_i^2}$ und $\\epsilon=\\sum \\frac{1 }{\\sigma_i^2}$\n",
    "\n",
    "it follows\n",
    "\n",
    "$$\n",
    "\\alpha \\hat{a}  + \\beta \\hat{b} = \\gamma\n",
    "$$\n",
    "\n",
    "\n",
    "$$\n",
    "\\beta \\hat{a}  + \\epsilon \\hat{b} = \\delta\n",
    "$$\n",
    "\n",
    "Finally we solve for $\\hat{a}$ und $\\hat{b}$\n",
    "\n",
    "\n",
    "$$\n",
    "\\hat{b} = \\frac{ \\alpha \\delta - \\beta \\gamma }{ \\alpha \\epsilon - \\beta^2 }\n",
    "$$\n",
    "\n",
    "$$\n",
    "\\hat{a} = \\frac{  \\gamma - \\beta \\hat{b} }{ \\alpha } \n",
    "$$\n",
    "\n"
   ]
  },
  {
   "cell_type": "markdown",
   "metadata": {},
   "source": [
    "\n",
    "# Symbolic calculations using Python\n",
    "\n",
    "The SymPy modul allows to perform symbolic calculations similar like Maple or with the symbolic toolbox of Matlab\n",
    "\n",
    " * http://sympy.org/\n",
    "\n",
    "In the following we calculate derivates to verify the solutions given above"
   ]
  },
  {
   "cell_type": "code",
   "execution_count": 14,
   "metadata": {
    "collapsed": true
   },
   "outputs": [],
   "source": [
    "import sympy as sp\n",
    "a,b,x_i,d_i,s_o=sp.symbols(\"a b x_i d_i s_i\")\n",
    "sp.init_printing() # For latex view"
   ]
  },
  {
   "cell_type": "code",
   "execution_count": 15,
   "metadata": {
    "collapsed": false
   },
   "outputs": [
    {
     "data": {
      "image/png": "[encoded data removed]",
      "text/latex": [
       "$$\\left(a x_{i} + b - d_{i}\\right)^{2}$$"
      ],
      "text/plain": [
       "               2\n",
       "(a⋅xᵢ + b - dᵢ) "
      ]
     },
     "execution_count": 15,
     "metadata": {},
     "output_type": "execute_result"
    }
   ],
   "source": [
    "F=(a*x_i+b-d_i)**2\n",
    "F"
   ]
  },
  {
   "cell_type": "code",
   "execution_count": 16,
   "metadata": {
    "collapsed": false
   },
   "outputs": [
    {
     "data": {
      "image/png": "[encoded data removed]",
      "text/latex": [
       "$$a^{2} x_{i}^{2} + 2 a b x_{i} - 2 a d_{i} x_{i} + b^{2} - 2 b d_{i} + d_{i}^{2}$$"
      ],
      "text/plain": [
       " 2   2                           2              2\n",
       "a ⋅xᵢ  + 2⋅a⋅b⋅xᵢ - 2⋅a⋅dᵢ⋅xᵢ + b  - 2⋅b⋅dᵢ + dᵢ "
      ]
     },
     "execution_count": 16,
     "metadata": {},
     "output_type": "execute_result"
    }
   ],
   "source": [
    "sp.expand(F)"
   ]
  },
  {
   "cell_type": "code",
   "execution_count": 4,
   "metadata": {
    "collapsed": false
   },
   "outputs": [
    {
     "data": {
      "image/png": "[encoded data removed]",
      "text/latex": [
       "$$2 x_{i} \\left(a x_{i} + b - d_{i}\\right)$$"
      ],
      "text/plain": [
       "2⋅xᵢ⋅(a⋅xᵢ + b - dᵢ)"
      ]
     },
     "execution_count": 4,
     "metadata": {},
     "output_type": "execute_result"
    }
   ],
   "source": [
    "sp.diff(F,a)"
   ]
  },
  {
   "cell_type": "code",
   "execution_count": 9,
   "metadata": {
    "collapsed": false
   },
   "outputs": [
    {
     "data": {
      "image/png": "[encoded data removed]",
      "text/latex": [
       "$$a x_{i}^{2} + b x_{i} - d_{i} x_{i}$$"
      ],
      "text/plain": [
       "    2               \n",
       "a⋅xᵢ  + b⋅xᵢ - dᵢ⋅xᵢ"
      ]
     },
     "execution_count": 9,
     "metadata": {},
     "output_type": "execute_result"
    }
   ],
   "source": [
    "sp.expand(sp.diff(F,a))/2"
   ]
  },
  {
   "cell_type": "code",
   "execution_count": 17,
   "metadata": {
    "collapsed": false
   },
   "outputs": [
    {
     "data": {
      "image/png": "[encoded data removed]",
      "text/latex": [
       "$$a x_{i} + b - d_{i}$$"
      ],
      "text/plain": [
       "a⋅xᵢ + b - dᵢ"
      ]
     },
     "execution_count": 17,
     "metadata": {},
     "output_type": "execute_result"
    }
   ],
   "source": [
    "sp.diff(F,b)/2"
   ]
  },
  {
   "cell_type": "markdown",
   "metadata": {},
   "source": [
    "Compare results with $\\frac{\\partial F}{\\partial a}$ and $\\frac{\\partial F}{\\partial b}$ given above.\n"
   ]
  },
  {
   "cell_type": "markdown",
   "metadata": {},
   "source": [
    "# Attachment: code for figures"
   ]
  },
  {
   "cell_type": "code",
   "execution_count": 18,
   "metadata": {
    "collapsed": false
   },
   "outputs": [
    {
     "name": "stdout",
     "output_type": "stream",
     "text": [
      "Populating the interactive namespace from numpy and matplotlib\n"
     ]
    }
   ],
   "source": [
    "%pylab inline\n",
    "# In the following code we use xn instead of x\n",
    "# in order to distinguish between symbolic variables and numerical arrays\n",
    "def Fig1():\n",
    "    N=15 # Number of data points\n",
    "    i=4 # Index of example \n",
    "    xn=linspace(0,1,N) # Generate N-data points between 0 and 1\n",
    "    an,bn=1.0,0.0 # Model parameters\n",
    "    ye=randn(N)*0.2 # True error\n",
    "    ye[i]=-0.3 # \n",
    "    dn=an*xn+bn+ye #True relation + error\n",
    "\n",
    "    figure(figsize=[8,8])  \n",
    "    errorbar(xn,dn,yerr=ye,fmt='o')\n",
    "    plot(xn,an*xn+bn,'g-',label='Linear regression f=a x+b')\n",
    "    annotate('$(x_i,d_i\\pm \\sigma_i)$',xy=(xn[i], dn[i]), arrowprops=dict(arrowstyle='->'), xytext=(xn[i]+0.2, dn[i]-0.1),fontsize=18)\n",
    "    annotate('',xy=(xn[i], dn[i]), arrowprops=dict(arrowstyle='<->'), xytext=(xn[i], xn[i]*an+bn),fontsize=18)\n",
    "    annotate('$e_i=f_i-d_i$',xy=(xn[i], xn[i]*an+bn+ye[i]/2.0) , arrowprops=dict(arrowstyle='-'), xytext=(xn[i]+0.1, dn[i]+0.3),fontsize=18)\n",
    "    axis([-0.2,1.2,-0.2,1.2])\n",
    "    legend(loc=2)"
   ]
  }
 ],
 "metadata": {
  "kernelspec": {
   "display_name": "Python 3",
   "language": "python",
   "name": "python3"
  },
  "language_info": {
   "codemirror_mode": {
    "name": "ipython",
    "version": 3
   },
   "file_extension": ".py",
   "mimetype": "text/x-python",
   "name": "python",
   "nbconvert_exporter": "python",
   "pygments_lexer": "ipython3",
   "version": "3.4.3"
  }
 },
 "nbformat": 4,
 "nbformat_minor": 0
}
