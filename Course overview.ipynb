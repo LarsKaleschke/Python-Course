{
 "cells": [
  {
   "cell_type": "markdown",
   "metadata": {},
   "source": [
    "# Scientific programming in Python  (Python II)\n",
    "\n",
    "Lars Kaleschke, University of Hamburg, 2016/2017.\n",
    "\n",
    "## Jupyter Notebook Workflow\n",
    "\n",
    "### Introduction and network security issues\n",
    "\n",
    "[Jupyter](https://github.com/LarsKaleschke/Python-Course/blob/master/Jupyter.ipynb) configuration\n",
    "\n",
    "### Presentation slides\n",
    "\n",
    "Generate [presentation slides](https://github.com/LarsKaleschke/Python-Course/blob/master/slideshow/Slides.ipynb) from notebooks.\n",
    " \n",
    "### Cell magic and Unix scripts\n",
    "\n",
    "In this [session](https://github.com/LarsKaleschke/Python-Course/blob/master/Cell%20magic%20and%20Unix%20scripts.ipynb)\n",
    " we learn how to use magic functions and to interact with the operating system.\n",
    "\n",
    "[Unix/Linux Command Reference](https://files.fosswire.com/2007/08/fwunixref.pdf)\n",
    "\n",
    "### Remote control\n",
    "\n",
    "[Working remote](https://github.com/LarsKaleschke/Python-Course/blob/master/Working%20remote.ipynb) using SSH, VNC or Jupyter.\n",
    "\n",
    "\n",
    "## Python data science\n",
    "\n",
    "### Python versions 2 and 3 \n",
    "\n",
    "[Differences between Python 2 and 3](https://github.com/LarsKaleschke/Python-Course/blob/master/Python3.ipynb)\n",
    "\n",
    "\n",
    "### Introduction to Pandas\n",
    "\n",
    "[Python Data Science Handbook](https://github.com/jakevdp/PythonDataScienceHandbook)\n",
    "\n",
    "[10 Minutes to pandas](http://pandas.pydata.org/pandas-docs/stable/10min.html)\n",
    "\n",
    "\n",
    "### Missing data and NaNs\n",
    "\n",
    "Here we learn to use different methods to work with missing, bad or undefined data flagged as [Not a Number (NaN)](https://github.com/LarsKaleschke/Python-Course/blob/master/Not%20a%20Number.ipynb).\n",
    "\n",
    "### Time series\n",
    "\n",
    "In this session we examine [meteorolocial time series with Pandas](https://github.com/LarsKaleschke/Python-Course/blob/master/DWD%20times%20series%20analysis%20using%20Pandas.ipynb).\n",
    "\n",
    "[num2date](https://github.com/LarsKaleschke/Python-Course/blob/master/num2date.ipynb). This example shows how read in NetCDF renalysis data and to decode datetime and timedelta arrays using CF conventions. Pandas periods are used to calculate seasonal cycles and anomalies.\n",
    "\n",
    "\n",
    "\n",
    "## Visualization\n",
    "\n",
    "### Seaborn\n",
    "\n",
    "[Seaborn](https://github.com/LarsKaleschke/Python-Course/blob/master/Seaborn.ipynb) is a Python visualization library based on matplotlib. It provides a high-level interface for drawing attractive statistical graphics. \n",
    "\n",
    "### Matplotlib basemap \n",
    "\n",
    "[Tsunami map](https://github.com/LarsKaleschke/Python-Course/blob/master/Tsunami.ipynb) \n",
    "\n",
    "\n",
    "## Exercise \n",
    "\n",
    "[Exercise 1](https://github.com/LarsKaleschke/Python-Course/blob/master/Exercise1.ipynb) Basic use of Python3, Jupyter, Pandas and version control.\n"
   ]
  },
  {
   "cell_type": "markdown",
   "metadata": {
    "collapsed": true
   },
   "source": [
    "# Schedule\n",
    "\n",
    "## Day 1 and 2\n",
    "\n",
    "Teaching and exercises\n",
    "\n",
    " * Jupyter\n",
    " * Differences Python 2/3\n",
    " * Cell magic and Unix scripts\n",
    " * Version control and Github\n",
    " * Pandas\n",
    " * Time series with missing data\n",
    " * Data visualization and statistics with Seaborn and scipy.stats\n",
    " * Introduction to group project\n",
    " \n",
    "## Day 3 and 4\n",
    " \n",
    " * Project (group) work\n",
    "\n",
    "## Day 5\n",
    "\n",
    " * Presentation of group work results\n",
    " * Feedback"
   ]
  },
  {
   "cell_type": "code",
   "execution_count": null,
   "metadata": {
    "collapsed": true
   },
   "outputs": [],
   "source": []
  }
 ],
 "metadata": {
  "kernelspec": {
   "display_name": "Python 3",
   "language": "python",
   "name": "python3"
  },
  "language_info": {
   "codemirror_mode": {
    "name": "ipython",
    "version": 3
   },
   "file_extension": ".py",
   "mimetype": "text/x-python",
   "name": "python",
   "nbconvert_exporter": "python",
   "pygments_lexer": "ipython3",
   "version": "3.5.0"
  }
 },
 "nbformat": 4,
 "nbformat_minor": 0
}
