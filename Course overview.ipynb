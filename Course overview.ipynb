{
 "cells": [
  {
   "cell_type": "markdown",
   "metadata": {},
   "source": [
    "# Scientific programming in Python  #\n",
    "\n",
    "Lars Kaleschke, University of Hamburg, 2015/2016\n",
    "\n",
    "## Jupyter / IPython Notebooks ##\n",
    "\n",
    "An introduction to [Jupyter](https://github.com/LarsKaleschke/Python-Course/blob/master/Jupyter.ipynb)\n",
    " \n",
    "## Python 2/3 ##\n",
    "\n",
    "[Differences between Python 2 and 3](https://github.com/LarsKaleschke/Python-Course/blob/master/Python3.ipynb)\n",
    "\n",
    "## Pandas ##\n",
    "\n",
    "[10 Minutes to pandas](http://pandas.pydata.org/pandas-docs/stable/10min.html)\n",
    "\n",
    "Example [Tsunami map](https://github.com/LarsKaleschke/Python-Course/blob/master/Tsunami.ipynb)\n",
    "\n",
    "Example [num2date](https://github.com/LarsKaleschke/Python-Course/blob/master/num2date.ipynb). This example shows how read in NetCDF renalysis data and to decode datetime and timedelta arrays using CF conventions. Pandas periods are used to calculate seasonal cycles and anomalies.\n",
    "\n",
    "## Exercises ##\n",
    "\n",
    "[Exercise 1](https://github.com/LarsKaleschke/Python-Course/blob/master/Exercise1.ipynb) Basic use of Python3, Jupyter, Pandas and version control."
   ]
  },
  {
   "cell_type": "markdown",
   "metadata": {},
   "source": [
    "# Next and requests #\n",
    "\n",
    " * How to deal with missing data: NaNs and masked arrays\n",
    " * Scipy modules\n",
    " \n",
    "\n",
    "## Fortran/Cython ##\n",
    "\n",
    "Creating interfaces for Fortran subroutines and speed up your code with Cython\n",
    "\n",
    "## Optimization ##\n",
    "\n",
    "Optimization, solvers"
   ]
  },
  {
   "cell_type": "code",
   "execution_count": null,
   "metadata": {
    "collapsed": true
   },
   "outputs": [],
   "source": []
  }
 ],
 "metadata": {
  "kernelspec": {
   "display_name": "Python 3",
   "language": "python",
   "name": "python3"
  },
  "language_info": {
   "codemirror_mode": {
    "name": "ipython",
    "version": 3
   },
   "file_extension": ".py",
   "mimetype": "text/x-python",
   "name": "python",
   "nbconvert_exporter": "python",
   "pygments_lexer": "ipython3",
   "version": "3.4.3"
  }
 },
 "nbformat": 4,
 "nbformat_minor": 0
}
