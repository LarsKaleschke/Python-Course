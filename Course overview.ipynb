{
 "cells": [
  {
   "cell_type": "markdown",
   "metadata": {},
   "source": [
    "# Scientific programming in Python  #\n",
    "\n",
    "Lars Kaleschke, University of Hamburg, 2015/2016\n",
    "\n",
    "## Jupyter / IPython Notebooks ##\n",
    "\n",
    "An introduction to [Jupyter](https://github.com/LarsKaleschke/Python-Course/blob/master/Jupyter.ipynb)\n",
    " \n",
    "## Python 2/3 ##\n",
    "\n",
    "[Differences between Python 2 and 3](https://github.com/LarsKaleschke/Python-Course/blob/master/Python3.ipynb)\n",
    "\n",
    "## Pandas ##\n",
    "\n",
    "[10 Minutes to pandas](http://pandas.pydata.org/pandas-docs/stable/10min.html)\n",
    "\n",
    "Example [Tsunami map](https://github.com/LarsKaleschke/Python-Course/blob/master/Tsunami.ipynb)\n",
    "\n",
    "Example [num2date](https://github.com/LarsKaleschke/Python-Course/blob/master/num2date.ipynb). This example shows how read in NetCDF renalysis data and to decode datetime and timedelta arrays using CF conventions. Pandas periods are used to calculate seasonal cycles and anomalies.\n",
    "\n",
    "## Exercises ##\n",
    "\n",
    "[Exercise 1](https://github.com/LarsKaleschke/Python-Course/blob/master/Exercise1.ipynb) Basic use of Python3, Jupyter, Pandas and version control."
   ]
  },
  {
   "cell_type": "markdown",
   "metadata": {},
   "source": [
    "# Next and requests #\n",
    "\n",
    " * How to deal with missing data: NaNs and masked arrays\n",
    " * Scipy modules\n",
    " \n",
    "\n",
    "## Fortran/Cython ##\n",
    "\n",
    "Creating interfaces for Fortran subroutines and speed up your code with Cython\n",
    "\n",
    "## Optimization ##\n",
    "\n",
    "Optimization, solvers"
   ]
  },
  {
   "cell_type": "markdown",
   "metadata": {
    "collapsed": true
   },
   "source": [
    "# Schedule\n",
    "\n",
    "## Day 1\n",
    "\n",
    "Aim: introduction to \n",
    "\n",
    " * Jupyter\n",
    " * Differences Python 2/3\n",
    " * Pandas\n",
    " * Version control and Github (exercise)\n",
    " \n",
    "Difficulties encountered:\n",
    "\n",
    "Configuration of a Jupyter server is not easy for students with no experience in Unix. Jupyterhub would avoid these difficulties but it has to be installed and configured by the system administrator.\n",
    "\n",
    "Too much material? Maybe skip some of the requested advanced topics.\n",
    "\n",
    "## Day 2\n",
    "\n",
    " * Jupyter setup, 2nd try\n",
    " * Cell magic and Unix scripts\n",
    " * Data visualization with Seaborn\n",
    " * Statistics\n",
    " * Execerises\n",
    " \n",
    "## Day 3\n",
    " \n",
    " * Working with real observational data\n",
    " * Time series\n",
    " * Missing data and interpolation\n",
    " * Introduction to day 4: group project\n",
    "\n",
    "## Day 4\n",
    " \n",
    " * Free (group) work: Exercise / Project\n",
    " \n",
    "\n",
    "## Day 5\n",
    "\n",
    " * Presentation of group work results\n",
    " * Feedback"
   ]
  }
 ],
 "metadata": {
  "kernelspec": {
   "display_name": "Python 3",
   "language": "python",
   "name": "python3"
  },
  "language_info": {
   "codemirror_mode": {
    "name": "ipython",
    "version": 3
   },
   "file_extension": ".py",
   "mimetype": "text/x-python",
   "name": "python",
   "nbconvert_exporter": "python",
   "pygments_lexer": "ipython3",
   "version": "3.4.3"
  }
 },
 "nbformat": 4,
 "nbformat_minor": 0
}
