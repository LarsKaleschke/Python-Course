{
 "cells": [
  {
   "cell_type": "markdown",
   "metadata": {},
   "source": [
    "# Scientific programming in Python II #\n",
    "\n",
    " * Jupyter / IPython Notebooks\n",
    " * [Differences between Python 2 and 3](https://github.com/LarsKaleschke/Python-Course/blob/master/Python3.ipynb)\n",
    " * Scipy modules\n",
    " * Sympy\n",
    " * Fortran\n",
    " * Pandas\n"
   ]
  },
  {
   "cell_type": "markdown",
   "metadata": {},
   "source": [
    "# Requests #\n",
    "\n",
    "## Fortran ##\n",
    "\n",
    "Creating interfaces for Fortran subroutines\n",
    "\n",
    "## Optimization ##\n",
    "\n",
    "Optimization, solvers\n",
    "\n",
    "## Missing data ##\n",
    "\n",
    " * NaN\n",
    " * Masked array\n"
   ]
  }
 ],
 "metadata": {
  "kernelspec": {
   "display_name": "Python 3",
   "language": "python",
   "name": "python3"
  },
  "language_info": {
   "codemirror_mode": {
    "name": "ipython",
    "version": 3
   },
   "file_extension": ".py",
   "mimetype": "text/x-python",
   "name": "python",
   "nbconvert_exporter": "python",
   "pygments_lexer": "ipython3",
   "version": "3.4.3"
  }
 },
 "nbformat": 4,
 "nbformat_minor": 0
}
