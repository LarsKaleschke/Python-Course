{
 "cells": [
  {
   "cell_type": "markdown",
   "metadata": {},
   "source": [
    "# Scientific programming in Python  \n",
    "\n",
    "Lars Kaleschke, University of Hamburg, 2015/2016\n",
    "\n",
    "## Jupyter / IPython Notebooks \n",
    "\n",
    "An introduction to [Jupyter](https://github.com/LarsKaleschke/Python-Course/blob/master/Jupyter.ipynb)\n",
    " \n",
    "## Python 2/3 \n",
    "\n",
    "[Differences between Python 2 and 3](https://github.com/LarsKaleschke/Python-Course/blob/master/Python3.ipynb)\n",
    "\n",
    "## Pandas\n",
    "\n",
    "[10 Minutes to pandas](http://pandas.pydata.org/pandas-docs/stable/10min.html)\n",
    "\n",
    "Example [Tsunami map](https://github.com/LarsKaleschke/Python-Course/blob/master/Tsunami.ipynb)\n",
    "\n",
    "Example [num2date](https://github.com/LarsKaleschke/Python-Course/blob/master/num2date.ipynb). This example shows how read in NetCDF renalysis data and to decode datetime and timedelta arrays using CF conventions. Pandas periods are used to calculate seasonal cycles and anomalies.\n",
    "\n",
    "## Seaborn\n",
    "\n",
    "[Seaborn](https://github.com/LarsKaleschke/Python-Course/blob/master/Seaborn.ipynb) is a Python visualization library based on matplotlib. It provides a high-level interface for drawing attractive statistical graphics. \n",
    "\n",
    "## Cell magic and Unix scripts\n",
    "\n",
    "In this [session](https://github.com/LarsKaleschke/Python-Course/blob/master/Cell%20magic%20and%20Unix%20scripts.ipynb)\n",
    " we learn how to use magic functions and to interact with the operating system.\n",
    "\n",
    "\n",
    "## Exercise \n",
    "\n",
    "[Exercise 1](https://github.com/LarsKaleschke/Python-Course/blob/master/Exercise1.ipynb) Basic use of Python3, Jupyter, Pandas and version control.\n",
    "\n",
    "## Missing data and NaNs\n",
    "\n",
    "Here we learn to use different methods to work with missing, bad or undefined data flagged as [Not a Number (NaN)](https://github.com/LarsKaleschke/Python-Course/blob/master/Not%20a%20Number.ipynb)."
   ]
  },
  {
   "cell_type": "markdown",
   "metadata": {
    "collapsed": true
   },
   "source": [
    "# Schedule\n",
    "\n",
    "## Day 1\n",
    "\n",
    "Aim: introduction to \n",
    "\n",
    " * Jupyter\n",
    " * Differences Python 2/3\n",
    " * Pandas\n",
    " * Version control and Github (exercise)\n",
    " \n",
    "Difficulties encountered: Configuration of a secure Jupyter server is not easy for students with no experience in Unix. Jupyterhub would avoid these difficulties but it has to be installed and configured by the system administrator.\n",
    "\n",
    "## Day 2\n",
    "\n",
    " * Jupyter setup, 2nd try\n",
    " * Cell magic and Unix scripts\n",
    " * Data visualization and statistics with Seaborn and scipy.stats\n",
    " * Exercises\n",
    " \n",
    "## Day 3\n",
    " \n",
    " * Time series with missing data\n",
    " * Introduction to group project\n",
    "\n",
    "## Day 4\n",
    " \n",
    " * Free (group) work: Exercise / Project\n",
    " \n",
    "\n",
    "## Day 5\n",
    "\n",
    " * Presentation of group work results\n",
    " * Feedback"
   ]
  },
  {
   "cell_type": "code",
   "execution_count": null,
   "metadata": {
    "collapsed": true
   },
   "outputs": [],
   "source": []
  }
 ],
 "metadata": {
  "kernelspec": {
   "display_name": "Python 3",
   "language": "python",
   "name": "python3"
  },
  "language_info": {
   "codemirror_mode": {
    "name": "ipython",
    "version": 3
   },
   "file_extension": ".py",
   "mimetype": "text/x-python",
   "name": "python",
   "nbconvert_exporter": "python",
   "pygments_lexer": "ipython3",
   "version": "3.4.3"
  }
 },
 "nbformat": 4,
 "nbformat_minor": 0
}
