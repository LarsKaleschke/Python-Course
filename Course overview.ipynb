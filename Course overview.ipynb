{
 "cells": [
  {
   "cell_type": "markdown",
   "metadata": {},
   "source": [
    "# Scientific programming in Python  #\n",
    "\n",
    " * Jupyter / IPython Notebooks\n",
    " * Scipy modules\n",
    " * Sympy\n",
    " * Fortran\n",
    " * Pandas\n",
    " \n",
    "## Python 2/3 ##\n",
    "\n",
    "[Differences between Python 2 and 3](https://github.com/LarsKaleschke/Python-Course/blob/master/Python3.ipynb)\n",
    "\n",
    "## Pandas ##\n",
    "\n",
    "[10 Minutes to pandas](http://pandas.pydata.org/pandas-docs/stable/10min.html)\n",
    "\n",
    "Example [Tsunami map](https://github.com/LarsKaleschke/Python-Course/blob/master/Tsunami.ipynb)\n",
    "\n",
    "## xray ##\n",
    "\n",
    "xray is an open source project and Python package that aims to bring the labeled data power of pandas to the physical sciences, by providing N-dimensional variants of the core pandas data structures. A nice feature when working with When reading or writing netCDF files, xray automatically decodes datetime and timedelta arrays using CF conventions. "
   ]
  },
  {
   "cell_type": "markdown",
   "metadata": {},
   "source": [
    "# Requests #\n",
    "\n",
    "## Fortran ##\n",
    "\n",
    "Creating interfaces for Fortran subroutines\n",
    "\n",
    "## Optimization ##\n",
    "\n",
    "Optimization, solvers\n",
    "\n",
    "## Missing data ##\n",
    "\n",
    " * NaN\n",
    " * Masked array\n"
   ]
  }
 ],
 "metadata": {
  "kernelspec": {
   "display_name": "Python 3",
   "language": "python",
   "name": "python3"
  },
  "language_info": {
   "codemirror_mode": {
    "name": "ipython",
    "version": 3
   },
   "file_extension": ".py",
   "mimetype": "text/x-python",
   "name": "python",
   "nbconvert_exporter": "python",
   "pygments_lexer": "ipython3",
   "version": "3.4.3"
  }
 },
 "nbformat": 4,
 "nbformat_minor": 0
}
