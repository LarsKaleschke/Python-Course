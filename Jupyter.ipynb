{
 "cells": [
  {
   "cell_type": "markdown",
   "metadata": {},
   "source": [
    "# Jupyter formerly known as IPython Notebooks # \n",
    "\n",
    "The [Jupyter Notebook](http://jupyter.org/) is a web application that allows you to create and share documents that contain live code, equations, visualizations and explanatory text. Project Jupyter was born out of the IPython Project in 2014 as it evolved to support interactive data science and scientific computing across all programming languages.\n"
   ]
  },
  {
   "cell_type": "markdown",
   "metadata": {},
   "source": [
    "\n",
    "## Workflow ##\n",
    "\n",
    "The concept of Notebook workflow is different from the traditional development cycles and workflow. The idea of combining explanation and code in one document was already introduced earlier in the field of symbolic computation with Maple or Sagemath. Jupyter is independent of the programming language and widens the applicability.\n",
    "\n",
    "The traditional development concept relies on an [editor](https://wiki.python.org/moin/PythonEditors) or integrated development environment (IDE). With Jupyter you need no separate editor but only a suitable webbrowser (eg. firefox) which connects to a server process.\n",
    "\n",
    "If you want to use the notebook or traditional development approach depends on your specific problem. The notebook approach is quite useful for the development of small applications, data analysis documentation and for teaching while the traditional way is probably the better choice when developing large and complex codes.\n",
    "\n",
    "\n",
    "\n",
    "## Security ##\n",
    "\n",
    "You have to be careful when running a notebook server on a computer which is used by many users or even worse connected to the internet. In this case your process needs a passwort protection. This is explained in this document: http://jupyter-notebook.readthedocs.org/en/latest/public_server.html\n",
    "\n",
    "\n",
    "The following steps have to be conducted for a password protection\n",
    "\n",
    " 1. generate config files\n",
    " 1. generate a certificate \n",
    " 1. generate a password hash\n",
    " 1. include path to certificate and password hash in the config file .jupyter/jupyter_notebook_config.py\n",
    "\n",
    "### CEN/Uni Hamburg specifics ###\n",
    "\n",
    "At first select Python version 3\n",
    "\n",
    "    module load  python3/3.5.0\n",
    "\n",
    "### Generate config file ###\n",
    "\n",
    "\n",
    "    jupyter notebook --generate-config\n",
    "\n",
    "generates config file in .jupyter directory. \n",
    "\n",
    " \n",
    "### Generate certificate ###\n",
    "\n",
    "The openssl command generates a self signed certificate. Execute the following command in the terminal:\n",
    "    \n",
    "    cd .jupyter\n",
    "    openssl req -x509 -nodes -days 3650 -newkey rsa:1024 -keyout mycert.pem -out mycert.pem\n",
    "\n",
    "The new certificate has to be accepted by the browser later on. As it comes from an untrusted source you have to click \"yes, I understand the risks\" and accept.\n",
    "\n",
    "### Generate password hash ###\n",
    "\n",
    "The password function generates a one way hash. The assumption is that the password can not be recovered from the hash. \n",
    "\n",
    "If you are still in the shell start python or ipython"
   ]
  },
  {
   "cell_type": "code",
   "execution_count": 1,
   "metadata": {
    "collapsed": true
   },
   "outputs": [],
   "source": [
    "from notebook.auth import passwd"
   ]
  },
  {
   "cell_type": "code",
   "execution_count": 2,
   "metadata": {},
   "outputs": [
    {
     "name": "stdout",
     "output_type": "stream",
     "text": [
      "Enter password: ········\n",
      "Verify password: ········\n"
     ]
    },
    {
     "data": {
      "text/plain": [
       "'sha1:28d9342fd57b:977a018e9c561fe4a5d2677c0697790db06a3d55'"
      ]
     },
     "execution_count": 2,
     "metadata": {},
     "output_type": "execute_result"
    }
   ],
   "source": [
    "passwd()"
   ]
  },
  {
   "cell_type": "markdown",
   "metadata": {
    "collapsed": true
   },
   "source": [
    "Put this hashed password and the path to the certificate into your config file and uncomment the lines:\n",
    "\n",
    "    c.NotebookApp.password = u'sha1:fff651c8e412:41d77986feafb7b73256f607b0f5c869ca4e72f1'\n",
    "    c.NotebookApp.certfile = u'/home/user/.jupyter/mycert.pem'\n",
    "    c.NotebookApp.keyfile = u'/home/user/.jupyter/mycert.pem'\n",
    "\n",
    "Replace /home/user with your home directory. See output of pwd. Or echo $HOME on the shell.\n",
    "    "
   ]
  },
  {
   "cell_type": "markdown",
   "metadata": {},
   "source": [
    "## Getting started ##\n",
    "\n",
    "You shall use firefox or chrome (other browsers might not work). It is therefore convenient to add the following entry in the config file.\n",
    "\n",
    "    c.NotebookApp.open_browser = False\n",
    "\n",
    "And start the browser later when the server is running.\n",
    "\n",
    "\n",
    "Now you can start the server with jupyter/ipython or\n",
    "\n",
    "    jupyter notebook --port 8900 &\n",
    "\n",
    "When the server has started you will see the message \n",
    "\n",
    "    The Jupyter Notebook is running at: https://localhost:8900/\n",
    "\n",
    "If the port 8900 is already in use you will see a different number. \n",
    "\n",
    "Now you can start your favourite browser, e.g. firefox\n",
    "\n",
    "    firefox &\n",
    "\n",
    "The first thing you will see (after accepting some warnings about the certificate) is a listing of your directory. This site is the so-called dashboard. Now you have the possibility to open existing notebooks or to create new ones. You can also control the state of the notebooks andshutdown the responsible processes.\n"
   ]
  },
  {
   "cell_type": "markdown",
   "metadata": {},
   "source": [
    "## Accessing the Jupyter server from a remote machine\n",
    "\n",
    "To access the server from a remote machine you have to change the following entry\n",
    "\n",
    "    # The IP address the notebook server will listen on.\n",
    "    c.NotebookApp.ip = \"localhost\"\n",
    "    \n",
    "replace localhost with your ip which you may obtain with \n",
    "    \n",
    "    hostname -i\n",
    "\n"
   ]
  },
  {
   "cell_type": "markdown",
   "metadata": {},
   "source": [
    "# Problems?\n",
    "\n",
    "There are several potential problems with the setup procedure. Problems might arise from  \n",
    "\n",
    "1. syntax errors in the configuration file \n",
    "2. certificate\n",
    "3. server and browser running on different machines\n",
    "\n",
    "## 1. Configuration file\n",
    "The configuration file is a Python script. Thus, it has to follow Python syntax. A basic configuration has just the following lines\n",
    "    \n",
    "    c.NotebookApp.password= \"sha1:....\" # Your password hash\n",
    "    c.NotebookApp.certfile = \"/home/user/.jupyter/mycert.pem\"\n",
    "    c.NotebookApp.keyfile = \"/home/user/.jupyter/mycert.pem\"\n",
    "   \n",
    "\n",
    "The use of wrong indentation (whitespaces) and wrong apostrophe characters may cause errors as in any other Python programme.\n",
    "\n",
    "## 2. certificate\n",
    "\n",
    "The openssl command has to be used with keyout and out option and just one filename. It has to be used twice in the configuration file according to this document\n",
    "\n",
    "https://jupyter-notebook.readthedocs.org/en/stable/examples/Notebook/Configuring%20the%20Notebook%20and%20Server.html\n",
    "\n",
    "In case of persistent problems you may comment out the lines\n",
    "\n",
    "    #c.NotebookApp.certfile = \"/home/user/.jupyter/mycert.pem\"\n",
    "    #c.NotebookApp.keyfile = \"/home/user/.jupyter/mycert.pem\"\n",
    "\n",
    "This will allow you to work with a password protected server but over an unsecure connection. \n",
    "\n",
    "## 3. server and browser running on different machines\n",
    "\n",
    "A common problem is that there is a firefox browser running on one machine and you start ipython notebook on another machine. The browser will then report a website busy error. \n",
    "\n",
    "You can fix the problem by closing all firefox windows and starting a new firefox on the machine with the notebook server. Or follow the instructions above for remote machines."
   ]
  }
 ],
 "metadata": {
  "kernelspec": {
   "display_name": "Python 3",
   "language": "python",
   "name": "python3"
  },
  "language_info": {
   "codemirror_mode": {
    "name": "ipython",
    "version": 3
   },
   "file_extension": ".py",
   "mimetype": "text/x-python",
   "name": "python",
   "nbconvert_exporter": "python",
   "pygments_lexer": "ipython3",
   "version": "3.6.3"
  }
 },
 "nbformat": 4,
 "nbformat_minor": 1
}
