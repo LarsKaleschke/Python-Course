{
 "cells": [
  {
   "cell_type": "markdown",
   "metadata": {},
   "source": [
    "# Jupyter formerly known as IPython Notebooks # \n",
    "\n",
    "The [Jupyter Notebook](http://jupyter.org/) is a web application that allows you to create and share documents that contain live code, equations, visualizations and explanatory text. Project Jupyter was born out of the IPython Project in 2014 as it evolved to support interactive data science and scientific computing across all programming languages.\n"
   ]
  },
  {
   "cell_type": "markdown",
   "metadata": {},
   "source": [
    "\n",
    "## Workflow ##\n",
    "\n",
    "The concept of Notebook workflow is different from the traditional development cycles and workflow. The idea of combining explanation and code in one document was already introduced earlier in the field of symbolic computation with Maple or Sagemath. Jupyter is independent of the programming language and widens the applicability.\n",
    "\n",
    "The traditional development concept relies on an [editor](https://wiki.python.org/moin/PythonEditors) or integrated development environment (IDE). With Jupyter you need no separate editor but only a suitable webbrowser (eg. firefox) which connects to a server process.\n",
    "\n",
    "If you want to use the notebook or traditional development approach depends on your specific problem. The notebook approach is quite useful for the development of small applications, data analysis documentation and for teaching while the traditional way is probably the better choice when developing large and complex codes.\n",
    "\n",
    "\n",
    "\n",
    "## Security ##\n",
    "\n",
    "You have to be careful when running a notebook server on a computer which is used by many users or even worse connected to the internet. In this case your process needs a passwort protection. This explained in this document: http://jupyter-notebook.readthedocs.org/en/latest/public_server.html\n",
    "\n",
    "The following steps have to be conducted\n",
    "\n",
    " 1. generate config files\n",
    " 1. generate a certificate \n",
    " 1. generate a password hash\n",
    " 1. include path to certificate and password hash in the config file .jupyter/jupyter_notebook_config.py\n",
    "\n",
    "### ZMAW specifics ###\n",
    "\n",
    "At first select Python version 3\n",
    "\n",
    "    module load  python3/3.5.0\n",
    "\n",
    "### Generate config file ###\n",
    "\n",
    "\n",
    "    jupyter notebook --generate-config\n",
    "\n",
    "generates config file in .jupyter directory. \n",
    "\n",
    "### Generate certificate ###\n",
    "\n",
    "The openssl generates a self signed\n",
    "\n",
    "    openssl req -x509 -nodes -days 365 -newkey rsa:1024 -keyout mykey.key -out mycert.pem\n",
    "\n",
    "### Generate password hash ###\n",
    "\n",
    "The password function generates a one way hash. The assumption is that the password can not be recovered from the hash."
   ]
  },
  {
   "cell_type": "code",
   "execution_count": 2,
   "metadata": {
    "collapsed": true
   },
   "outputs": [],
   "source": [
    "from notebook.auth import passwd"
   ]
  },
  {
   "cell_type": "code",
   "execution_count": 3,
   "metadata": {
    "collapsed": false
   },
   "outputs": [
    {
     "name": "stdout",
     "output_type": "stream",
     "text": [
      "Enter password: ········\n",
      "Verify password: ········\n"
     ]
    },
    {
     "data": {
      "text/plain": [
       "'sha1:64d499869390:58748ea3500a7d123c75fa8d86195c4566c378bd'"
      ]
     },
     "execution_count": 3,
     "metadata": {},
     "output_type": "execute_result"
    }
   ],
   "source": [
    "passwd()"
   ]
  },
  {
   "cell_type": "markdown",
   "metadata": {
    "collapsed": true
   },
   "source": [
    "Put this hashed password and the path to the certificate into your config file and uncomment the lines:\n",
    "\n",
    "    c.NotebookApp.password = u'sha1:fff651c8e412:41d77986feafb7b73256f607b0f5c869ca4e72f1'\n",
    "    c.NotebookApp.certfile = u'/home/user/mycert.pem'"
   ]
  },
  {
   "cell_type": "markdown",
   "metadata": {},
   "source": [
    "## Getting started ##\n",
    "\n",
    "You shall use firefox (other browsers might not work). It is therefore convenient to add the following entry in the config file.\n",
    "\n",
    "    c.NotebookApp.browser = 'firefox'\n",
    "\n",
    "Now you can start the server with jupyter/ipython or\n",
    "\n",
    "    ipython3 notebook &\n",
    "\n",
    "When the server has started you will see the message \n",
    "\n",
    "    The IPython Notebook is running at: https://localhost:8888/\n",
    "\n",
    "If the port 8888 is already in use you will see a different number. \n",
    "\n",
    "The first thing you will see (after accepting some warnings about the certificate) is a listing of your directory. This site is the so-called dashboard. Now you have the possibility to open existing notebooks or to create new ones. You can also control the state of the notebooks and shutdown the responsible processes.\n"
   ]
  }
 ],
 "metadata": {
  "kernelspec": {
   "display_name": "Python 3",
   "language": "python",
   "name": "python3"
  },
  "language_info": {
   "codemirror_mode": {
    "name": "ipython",
    "version": 3
   },
   "file_extension": ".py",
   "mimetype": "text/x-python",
   "name": "python",
   "nbconvert_exporter": "python",
   "pygments_lexer": "ipython3",
   "version": "3.5.0"
  }
 },
 "nbformat": 4,
 "nbformat_minor": 0
}
