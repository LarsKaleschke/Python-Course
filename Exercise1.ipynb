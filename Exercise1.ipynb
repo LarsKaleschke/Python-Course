{
 "cells": [
  {
   "cell_type": "markdown",
   "metadata": {},
   "source": [
    "# Exercises\n",
    "\n",
    "## Jupyter\n",
    "\n",
    " * Configure your environment to use Jupyter with a secure connection\n",
    " * Explore how to start and stop the Jupyter/Ipython server and make sure that there is no background process running (see below)\n",
    " * Look up Help to learn about the user interface, keyboard shortcuts, and the markdown syntax\n",
    " * Create a notebook and describe some features of the Python language\n",
    " * Install a new Jupyter kernel and use e.g. Matlab"
   ]
  },
  {
   "cell_type": "markdown",
   "metadata": {},
   "source": [
    "## UNIX process control\n",
    "\n",
    "Make sure that you have saved your changes. Look up process ID (PID) of runnnig ipython processes\n",
    "\n",
    "    ps \n",
    "    \n",
    "Stop ipython process with CTRL-C or\n",
    "\n",
    "    kill PID\n",
    "\n",
    "or \n",
    "    \n",
    "    killall ipython\n",
    "    \n",
    "## Install modules in user directory\n",
    "\n",
    "    pip3 install --user \"matlab_kernel\""
   ]
  },
  {
   "cell_type": "markdown",
   "metadata": {},
   "source": [
    "# Python 3\n",
    "\n",
    "Convert your Python 2 code (e.g. previous exercises) into Python 3 notebooks\n",
    "\n",
    "# Pandas\n",
    "\n",
    "Use NCEP reanalysis data to create Basemap maps of seasonal mean surface air temperatures. \n",
    "\n",
    "Calculate the anomaly of November 2015 surface air temperature and display in at least two different map projections.\n",
    "\n",
    "Calculate and plot zonal mean surface air temperature trends."
   ]
  },
  {
   "cell_type": "markdown",
   "metadata": {},
   "source": [
    "# GitHub\n",
    "\n",
    "Create a GitHub account and configure git. Clone a new empty repository. Upload (add, commit, push) the Pandas exercise on the server. Send the link to your lectures."
   ]
  },
  {
   "cell_type": "code",
   "execution_count": null,
   "metadata": {
    "collapsed": true
   },
   "outputs": [],
   "source": []
  }
 ],
 "metadata": {
  "kernelspec": {
   "display_name": "Python 3",
   "language": "python",
   "name": "python3"
  },
  "language_info": {
   "codemirror_mode": {
    "name": "ipython",
    "version": 3
   },
   "file_extension": ".py",
   "mimetype": "text/x-python",
   "name": "python",
   "nbconvert_exporter": "python",
   "pygments_lexer": "ipython3",
   "version": "3.6.3"
  }
 },
 "nbformat": 4,
 "nbformat_minor": 1
}
