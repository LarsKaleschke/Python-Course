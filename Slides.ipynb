{
 "cells": [
  {
   "cell_type": "markdown",
   "metadata": {
    "slideshow": {
     "slide_type": "slide"
    }
   },
   "source": [
    "# IPython slideshow - signifcance of trends\n",
    "\n",
    " * How to generate and present notebook (IPython/Jupyter) slides\n",
    " * Static and interactive slideshows\n",
    "---\n",
    "\n",
    "Based on Jupyter 4.1 and IPython3 version 4.0.3\n",
    " \n",
    "Lars Kaleschke, January 2016"
   ]
  },
  {
   "cell_type": "markdown",
   "metadata": {
    "slideshow": {
     "slide_type": "slide"
    }
   },
   "source": [
    "# Notebook slides\n",
    "\n",
    "Generating slides from notebooks is easy:\n",
    "\n",
    " * Select view -> cell toolbar -> slideshow\n",
    " * Convert notebook to html slides\n",
    " * Start local html server or upload slides on remote server (e.g. Github)\n",
    " \n",
    "Ipython can do the conversion to html and start the server with a single line. \n",
    "\n",
    "See below!"
   ]
  },
  {
   "cell_type": "markdown",
   "metadata": {
    "slideshow": {
     "slide_type": "subslide"
    }
   },
   "source": [
    "## This is a Sub-Slide with Fragments"
   ]
  },
  {
   "cell_type": "code",
   "execution_count": null,
   "metadata": {
    "collapsed": false,
    "slideshow": {
     "slide_type": "fragment"
    }
   },
   "outputs": [
    {
     "name": "stdout",
     "output_type": "stream",
     "text": [
      "[NbConvertApp] Converting notebook Slides.ipynb to slides\n",
      "[NbConvertApp] Writing 195553 bytes to Slides.slides.html\n",
      "[NbConvertApp] Redirecting reveal.js requests to https://cdnjs.cloudflare.com/ajax/libs/reveal.js/3.1.0\n",
      "Serving your slides at http://127.0.0.1:8000/Slides.slides.html\n",
      "Use Control-C to stop this server\n",
      "WARNING:tornado.access:404 GET /custom.css (127.0.0.1) 0.45ms\n",
      "WARNING:tornado.access:404 GET /custom.css (127.0.0.1) 0.47ms\n"
     ]
    }
   ],
   "source": [
    "!ipython3 nbconvert Slides.ipynb --to slides --post serve"
   ]
  },
  {
   "cell_type": "markdown",
   "metadata": {
    "slideshow": {
     "slide_type": "fragment"
    }
   },
   "source": [
    "Execute the cell above: IPython converts the slides and starts a server.\n",
    "\n",
    "You have to interrupt the kernel for the cell above to make changes to your slides: Click the black square box on the primary notebook."
   ]
  },
  {
   "cell_type": "markdown",
   "metadata": {
    "slideshow": {
     "slide_type": "slide"
    }
   },
   "source": [
    "# Types of slideshows\n",
    "\n",
    "There are two types of presentations\n",
    "\n",
    " * static (html)\n",
    " * interactive\n",
    " \n",
    "Here we have used the static html version. \n",
    "\n",
    "An interactive slideshow allows to change the content on the fly. For this you have to use the RISE extension or wait for future Jupyter versions."
   ]
  },
  {
   "cell_type": "markdown",
   "metadata": {
    "slideshow": {
     "slide_type": "slide"
    }
   },
   "source": [
    "# Thank you for your attention"
   ]
  }
 ],
 "metadata": {
  "celltoolbar": "Slideshow",
  "kernelspec": {
   "display_name": "Python 3",
   "language": "python",
   "name": "python3"
  },
  "language_info": {
   "codemirror_mode": {
    "name": "ipython",
    "version": 3
   },
   "file_extension": ".py",
   "mimetype": "text/x-python",
   "name": "python",
   "nbconvert_exporter": "python",
   "pygments_lexer": "ipython3",
   "version": "3.4.3"
  }
 },
 "nbformat": 4,
 "nbformat_minor": 0
}
