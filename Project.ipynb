{
 "cells": [
  {
   "cell_type": "markdown",
   "metadata": {},
   "source": [
    "# Project\n",
    "\n",
    "## Project idea\n",
    "\n",
    "Find a preliminary research question and select suitable data sets. \n",
    "\n",
    "Describe on one slide:\n",
    "\n",
    " * Research question\n",
    " * Data sets\n",
    "  * Dimensions, data format, file sizes \n",
    "  * Data source, availability\n",
    " * Analysis methods\n",
    "\n",
    "## Group work\n",
    "\n",
    "Before programming\n",
    "\n",
    " * Refine research question, define hypotheses\n",
    " * Develop work and time plan\n",
    " * Define data structures and methods \n",
    " * Distribute tasks and responsibilities\n",
    "\n",
    "## Deliverables\n",
    "\n",
    " * Final result: a nice plot with a short scientific message\n",
    " * Oral presentation\n",
    " * Report (notebook with description)\n",
    "\n",
    "\n",
    "# Example data\n",
    "\n",
    " * [NCEP Reanalysis](https://icdc.cen.uni-hamburg.de/1/daten/reanalysis-atmosphere/ncep.html)\n",
    " * [DWD station data](https://icdc.cen.uni-hamburg.de/1/daten/atmosphere/dwd-station.html)\n",
    " * [Sea ice concentration - monthly from IFREMER](ftp://ftp.ifremer.fr/ifremer/cersat/products/gridded/psi-concentration/data/)\n",
    " * [Weekly Sea Ice Thickness Maps based on CryoSat-2/SMOS Data Fusion from meereisportal.de](http://data.meereisportal.de/gallery/index_new.php?lang=en_US&active-tab1=measurement&active-tab2=thickness)\n",
    " * [Soil Moisture, Ocean Salinty (SMOS) Satellite data](https://www.catds.fr/)\n",
    " * [Greenland mass balance (GRACE)](http://products.esa-icesheets-cci.org/products/downloadlist/GMB/)\n",
    " * [ESA Climate Change Initiative](http://cci.esa.int/)\n",
    " * [Integrated Climate Data Center - ICDC](http://icdc.cen.uni-hamburg.de/)\n",
    " "
   ]
  }
 ],
 "metadata": {
  "kernelspec": {
   "display_name": "Python 3",
   "language": "python",
   "name": "python3"
  },
  "language_info": {
   "codemirror_mode": {
    "name": "ipython",
    "version": 3
   },
   "file_extension": ".py",
   "mimetype": "text/x-python",
   "name": "python",
   "nbconvert_exporter": "python",
   "pygments_lexer": "ipython3",
   "version": "3.6.3"
  }
 },
 "nbformat": 4,
 "nbformat_minor": 1
}
