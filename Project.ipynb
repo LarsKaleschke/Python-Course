{
 "cells": [
  {
   "cell_type": "markdown",
   "metadata": {},
   "source": [
    "# Project\n",
    "\n",
    "## Project idea\n",
    "\n",
    "Find a preliminary research question and select suitable data sets. \n",
    "\n",
    "Describe on a **one page slide** (PDF) for a **1-2 minutes** presentation\n",
    "\n",
    " * **Short project title**\n",
    " * **Research question**\n",
    " * **Data sets**\n",
    " * **Analysis methods**\n",
    "\n",
    "Send this slide by **10th January** (latest) to remon.sadikni@uni-hamburg.de and lars.kaleschke@uni-hamburg.de\n",
    "\n",
    "Please use the following convention for the filename of the slides: **Short_project_title__Your_Name.pdf**\n",
    "\n",
    "## Selection\n",
    "\n",
    "On **January 12** all ideas will be shortly presented. You can vote for your favourite projects. About 6-10 projects will be selected for the following group work.\n",
    "\n",
    "## Group work\n",
    "\n",
    "Before programming\n",
    "\n",
    " * Refine research question, define hypotheses\n",
    " * Develop work and time plan\n",
    " * Define data structures and methods \n",
    " * Distribute tasks and responsibilities\n",
    "\n",
    "## Deliverables\n",
    "\n",
    " * Final result: a nice plot with a short scientific message\n",
    " * Oral presentation on **February 2nd**\n",
    " * Report (notebook with description)\n",
    "\n",
    "\n",
    "# Example data\n",
    "\n",
    "Just examples, you may select your own data set. Data from model simulations are also accepted.\n",
    "\n",
    " * [NCEP Reanalysis](https://icdc.cen.uni-hamburg.de/1/daten/reanalysis-atmosphere/ncep.html)\n",
    " * [DWD station data](https://icdc.cen.uni-hamburg.de/1/daten/atmosphere/dwd-station.html)\n",
    " * [Sea ice concentration - monthly from IFREMER](ftp://ftp.ifremer.fr/ifremer/cersat/products/gridded/psi-concentration/data/)\n",
    " * [Weekly Sea Ice Thickness Maps based on CryoSat-2/SMOS Data Fusion from meereisportal.de](http://data.meereisportal.de/gallery/index_new.php?lang=en_US&active-tab1=measurement&active-tab2=thickness)\n",
    " * [Soil Moisture, Ocean Salinty (SMOS) Satellite data](https://www.catds.fr/)\n",
    " * [Greenland mass balance (GRACE)](http://products.esa-icesheets-cci.org/products/downloadlist/GMB/)\n",
    " * [ESA Climate Change Initiative](http://cci.esa.int/)\n",
    " * [Integrated Climate Data Center - ICDC](http://icdc.cen.uni-hamburg.de/)\n",
    " "
   ]
  }
 ],
 "metadata": {
  "kernelspec": {
   "display_name": "Python 3",
   "language": "python",
   "name": "python3"
  },
  "language_info": {
   "codemirror_mode": {
    "name": "ipython",
    "version": 3
   },
   "file_extension": ".py",
   "mimetype": "text/x-python",
   "name": "python",
   "nbconvert_exporter": "python",
   "pygments_lexer": "ipython3",
   "version": "3.6.3"
  }
 },
 "nbformat": 4,
 "nbformat_minor": 1
}
