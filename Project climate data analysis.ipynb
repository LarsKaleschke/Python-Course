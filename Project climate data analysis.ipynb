{
 "cells": [
  {
   "cell_type": "markdown",
   "metadata": {},
   "source": [
    "# Project: climate data analysis and visualization\n",
    "\n",
    "## Group work\n",
    "\n",
    "\n",
    " * Distribute tasks and responsibilities\n",
    " * Define data structures and methods for\n",
    " * Work with synthetic test data as long as real data are not yet available\n",
    " * Communicate between groups!\n",
    "\n",
    "### 1) Read in weather data\n",
    "\n",
    "http://icdc.zmaw.de/daten/atmosphere/dwd-station.html\n",
    "\n",
    "ftp://ftp-cdc.dwd.de/pub/CDC/observations_germany/climate/subdaily/standard_format/\n",
    "\n",
    "Task: write program to read tables in a suitable data structure (i.e. Pandas DataFrame)\n",
    "\n",
    "Input: Data documentation on website\n",
    "\n",
    "Result: Pandas DataFrame object with a few selected stations and parameters (e.g. temperature and precipitation)\n",
    "\n",
    "### 2) Process data\n",
    "\n",
    "Task: write programs to calculate monthly means, seasonal cycles, anomalies\n",
    "\n",
    "Input: DataFrame object from 1)\n",
    "\n",
    "Result: DataFrame object with monthly means, seasonal cycles, anomalies\n",
    "\n",
    "### 3) Analysis\n",
    "\n",
    "Tasks:\n",
    "Calculate trends and significance. Correlate parameters (e.g. precipitation, temperature) with climate indices (e.g. NAO).\n",
    "\n",
    "Input: DataFrame object from 2). Climate indices from ICDC or other data center\n",
    "\n",
    "Result: DataFrame object with statistical parameters\n",
    "\n",
    "### 4) Visualisation\n",
    "\n",
    "Task: write programs for nice visualisation of time series, statistics, and maps\n",
    "\n",
    "Input: DataFrame objects from 1),2) and 3) and station locations\n",
    "\n",
    "### 5) Report\n",
    "\n",
    "Summarize results and discuss\n"
   ]
  },
  {
   "cell_type": "code",
   "execution_count": null,
   "metadata": {
    "collapsed": true
   },
   "outputs": [],
   "source": []
  }
 ],
 "metadata": {
  "kernelspec": {
   "display_name": "Python 3",
   "language": "python",
   "name": "python3"
  },
  "language_info": {
   "codemirror_mode": {
    "name": "ipython",
    "version": 3
   },
   "file_extension": ".py",
   "mimetype": "text/x-python",
   "name": "python",
   "nbconvert_exporter": "python",
   "pygments_lexer": "ipython3",
   "version": "3.5.0"
  }
 },
 "nbformat": 4,
 "nbformat_minor": 0
}
