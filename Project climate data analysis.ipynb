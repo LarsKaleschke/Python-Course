{
 "cells": [
  {
   "cell_type": "markdown",
   "metadata": {},
   "source": [
    "# Project: climate data analysis and visualization\n",
    "\n",
    "## Group work\n",
    "\n",
    "Before programming\n",
    "\n",
    " * Define research question\n",
    " * Develop work plan\n",
    " * Define data structures and methods \n",
    " * Distribute tasks and responsibilities\n",
    "\n",
    "The below is just an example how to structure your work. You may define your own goals.\n",
    "\n",
    "### 1) Read in weather or other data\n",
    "\n",
    "http://icdc.cen.uni-hamburg.de/daten/atmosphere/dwd-station.html\n",
    "\n",
    "Task: write program to read tables in a suitable data structure (i.e. Pandas DataFrame)\n",
    "\n",
    "Input: Data documentation on website\n",
    "\n",
    "Result: Pandas DataFrame object with a few selected stations and parameters (e.g. temperature and precipitation)\n",
    "\n",
    "### 2) Process data\n",
    "\n",
    "Task: write programs to calculate monthly means, seasonal cycles, anomalies\n",
    "\n",
    "Input: DataFrame object from 1)\n",
    "\n",
    "Result: DataFrame object with monthly means, seasonal cycles, anomalies\n",
    "\n",
    "### 3) Analysis\n",
    "\n",
    "Tasks:\n",
    "\n",
    " * Calculate trends \n",
    " * Calculate significance. \n",
    " \n",
    "Input: DataFrame object from 2\n",
    "\n",
    "Result: DataFrame object with trends and statistical parameters\n",
    "\n",
    "### 4) Visualisation\n",
    "\n",
    "Task: write programs for nice visualisation of time series, statistics\n",
    "\n",
    "Input: DataFrame objects from 1),2) and 3) and station locations\n",
    "\n",
    "### 5) Report\n",
    "\n",
    "Summarize results and discuss\n"
   ]
  }
 ],
 "metadata": {
  "kernelspec": {
   "display_name": "Python 3",
   "language": "python",
   "name": "python3"
  },
  "language_info": {
   "codemirror_mode": {
    "name": "ipython",
    "version": 3
   },
   "file_extension": ".py",
   "mimetype": "text/x-python",
   "name": "python",
   "nbconvert_exporter": "python",
   "pygments_lexer": "ipython3",
   "version": "3.6.3"
  }
 },
 "nbformat": 4,
 "nbformat_minor": 1
}
