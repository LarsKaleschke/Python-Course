{
 "cells": [
  {
   "cell_type": "markdown",
   "metadata": {},
   "source": [
    "# Linear regression with scipy.stats\n",
    "\n",
    "We use the anomalies of air temperature (calculated in the example Pandas Time Series) measured at the DWD station Hamburg Fuhlsbüttel to exemplify the linear regression.\n",
    "\n",
    "The module scipy.stats contains many useful statistical function, have a look at the manual."
   ]
  },
  {
   "cell_type": "code",
   "execution_count": 78,
   "metadata": {},
   "outputs": [
    {
     "name": "stdout",
     "output_type": "stream",
     "text": [
      "Populating the interactive namespace from numpy and matplotlib\n"
     ]
    },
    {
     "data": {
      "text/html": [
       "<div>\n",
       "<style>\n",
       "    .dataframe thead tr:only-child th {\n",
       "        text-align: right;\n",
       "    }\n",
       "\n",
       "    .dataframe thead th {\n",
       "        text-align: left;\n",
       "    }\n",
       "\n",
       "    .dataframe tbody tr th {\n",
       "        vertical-align: top;\n",
       "    }\n",
       "</style>\n",
       "<table border=\"1\" class=\"dataframe\">\n",
       "  <thead>\n",
       "    <tr style=\"text-align: right;\">\n",
       "      <th></th>\n",
       "      <th>Date</th>\n",
       "      <th>T</th>\n",
       "    </tr>\n",
       "  </thead>\n",
       "  <tbody>\n",
       "    <tr>\n",
       "      <th>1519</th>\n",
       "      <td>2017-08</td>\n",
       "      <td>0.197536</td>\n",
       "    </tr>\n",
       "    <tr>\n",
       "      <th>1520</th>\n",
       "      <td>2017-09</td>\n",
       "      <td>0.020131</td>\n",
       "    </tr>\n",
       "    <tr>\n",
       "      <th>1521</th>\n",
       "      <td>2017-10</td>\n",
       "      <td>2.546330</td>\n",
       "    </tr>\n",
       "    <tr>\n",
       "      <th>1522</th>\n",
       "      <td>2017-11</td>\n",
       "      <td>1.270236</td>\n",
       "    </tr>\n",
       "    <tr>\n",
       "      <th>1523</th>\n",
       "      <td>2017-12</td>\n",
       "      <td>0.558491</td>\n",
       "    </tr>\n",
       "  </tbody>\n",
       "</table>\n",
       "</div>"
      ],
      "text/plain": [
       "         Date         T\n",
       "1519  2017-08  0.197536\n",
       "1520  2017-09  0.020131\n",
       "1521  2017-10  2.546330\n",
       "1522  2017-11  1.270236\n",
       "1523  2017-12  0.558491"
      ]
     },
     "execution_count": 78,
     "metadata": {},
     "output_type": "execute_result"
    }
   ],
   "source": [
    "%pylab inline\n",
    "import pandas as pd\n",
    "import scipy.stats as stats\n",
    "DF=pd.read_csv('data/Fuhlsbuettel_monthly_mean_anomaly.csv',names=['Date','T'])\n",
    "DF.tail()"
   ]
  },
  {
   "cell_type": "markdown",
   "metadata": {},
   "source": [
    "We convert the Pandas dataframe to a normal array for using scipy.stats"
   ]
  },
  {
   "cell_type": "code",
   "execution_count": 73,
   "metadata": {},
   "outputs": [
    {
     "name": "stdout",
     "output_type": "stream",
     "text": [
      "0.00887400719609 -17.3435107709 0.175322126704 5.49611897768e-12 0.00127731010366\n"
     ]
    },
    {
     "data": {
      "text/plain": [
       "<matplotlib.legend.Legend at 0x7f5f233d6358>"
      ]
     },
     "execution_count": 73,
     "metadata": {},
     "output_type": "execute_result"
    },
    {
     "data": {
      "image/png": "[encoded data removed]",
      "text/plain": [
       "<matplotlib.figure.Figure at 0x7f5f23444e48>"
      ]
     },
     "metadata": {},
     "output_type": "display_data"
    }
   ],
   "source": [
    "# Convert to array\n",
    "y=DF['T'].values\n",
    "x=array(DF.index)/12+1891 # Convert index to year (float)\n",
    "# Linear regression\n",
    "slope, intercept, r_value, p_value, std_err = stats.linregress(x,y)\n",
    "print(slope, intercept, r_value, p_value, std_err)\n",
    "# Plot\n",
    "y_linear_fit=x*slope+intercept\n",
    "plot(x,y,label='Hamburg Fuhlsbüttel')\n",
    "plot(x,y_linear_fit,'r-',lw=3,label='Linear regression line')\n",
    "ylabel('Air temperature anomaly [°C]')\n",
    "legend()"
   ]
  },
  {
   "cell_type": "markdown",
   "metadata": {},
   "source": [
    "## Conclusions \n",
    "\n",
    "We now interprete the results of the linear regression."
   ]
  },
  {
   "cell_type": "code",
   "execution_count": 79,
   "metadata": {},
   "outputs": [
    {
     "name": "stdout",
     "output_type": "stream",
     "text": [
      "Temperature increased 0.8874 degrees Celsius in 100 years\n",
      "The certainty that this trend is not caused by random fluctuations is 99.9999999995% \n"
     ]
    }
   ],
   "source": [
    "print('Temperature increased {:1.4f} degrees Celsius in 100 years'.format(slope*100))\n",
    "print('The certainty that this trend is not caused by random fluctuations is {:2.10f}% '.format((1-p_value)*100))"
   ]
  }
 ],
 "metadata": {
  "kernelspec": {
   "display_name": "Python 3",
   "language": "python",
   "name": "python3"
  },
  "language_info": {
   "codemirror_mode": {
    "name": "ipython",
    "version": 3
   },
   "file_extension": ".py",
   "mimetype": "text/x-python",
   "name": "python",
   "nbconvert_exporter": "python",
   "pygments_lexer": "ipython3",
   "version": "3.6.3"
  }
 },
 "nbformat": 4,
 "nbformat_minor": 2
}
