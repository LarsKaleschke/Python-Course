{
 "cells": [
  {
   "cell_type": "markdown",
   "metadata": {},
   "source": [
    "# Working on remote machines\n",
    "\n",
    "\n",
    "## SSH\n",
    "\n",
    "SSH shall be configured with a public/private keypair to avoid typing the password, see e.g. https://cis.zmaw.de/support/faqs/ssh.html\n",
    "\n",
    "Graphical output can be passed through ssh using the -X option. However, the X11 protocoll is very slow. Therefore you might use VNC or work with a Jupyter notebook running on a server in the university via a ssh tunnel using a browser on a machine outside the university network.\n",
    "\n",
    "## VNC\n",
    "\n",
    "With VNC you can work remote with a fast graphical connection. The proceses on the server will not stop if you close the VNC window on the client. \n",
    "\n",
    "### Software (Ubuntu/Debian)\n",
    "\n",
    "vnc4server - Virtual network computing server software\n",
    "\n",
    "xvnc4viewer - Virtual network computing client software for X\n",
    "\n",
    "### On the server\n",
    "\n",
    "Login on the server (e.g. snow, squall)\n",
    "\n",
    "Set the password on the server with vnc4passwd\n",
    "\n",
    "Start the personal VNC-server with vnc4server, e.g. on snow1\n",
    "\n",
    "    vnc4server  -geometry 1200x900\n",
    "\n",
    "Kill the server with\n",
    "\n",
    "    vnc4server -kill :1\n",
    "    \n",
    "### On the client (from outside network)\n",
    "\n",
    "Start the VNC client with\n",
    "\n",
    "    xvnc4viewer -via uxxxxxx@login.zmaw.de snow1:1\n",
    "\n"
   ]
  },
  {
   "cell_type": "code",
   "execution_count": null,
   "metadata": {
    "collapsed": true
   },
   "outputs": [],
   "source": []
  }
 ],
 "metadata": {
  "kernelspec": {
   "display_name": "Python 3",
   "language": "python",
   "name": "python3"
  },
  "language_info": {
   "codemirror_mode": {
    "name": "ipython",
    "version": 3
   },
   "file_extension": ".py",
   "mimetype": "text/x-python",
   "name": "python",
   "nbconvert_exporter": "python",
   "pygments_lexer": "ipython3",
   "version": "3.5.0"
  }
 },
 "nbformat": 4,
 "nbformat_minor": 0
}
