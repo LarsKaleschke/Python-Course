{
 "cells": [
  {
   "cell_type": "markdown",
   "metadata": {},
   "source": [
    "# Working on remote machines\n",
    "\n",
    "My workstation at home is a tiny, silent and energy-saving [Raspberry Pi](https://www.raspberrypi.org/). If I need more computer power I work remote on the server of the university of cloud services. \n",
    "\n",
    "\n",
    "## SSH\n",
    "\n",
    "SSH shall be configured with a public/private keypair to avoid typing the password, see e.g. https://www.cen.uni-hamburg.de/facilities/cen-it/support/faq.html#4301191\n",
    "\n",
    "Graphical output can be passed through ssh using the -X option. However, the X11 protocoll is very slow. Therefore you might use VNC or work with a Jupyter notebook running on a server in the university via a ssh tunnel using a browser on a machine outside the university network.\n",
    "\n",
    "\n",
    "\n",
    "\n",
    "## VNC\n",
    "\n",
    "With VNC you can work remote with a fast graphical connection. The proceses on the server will not stop if you close the VNC window on the client. \n",
    "\n",
    "### Software (Ubuntu/Debian)\n",
    "\n",
    "vnc4server - Virtual network computing server software\n",
    "\n",
    "xvnc4viewer - Virtual network computing client software for X\n",
    "\n",
    "### On the server\n",
    "\n",
    "Login on the server (e.g. snow, squall)\n",
    "\n",
    "Set the password on the server with vnc4passwd\n",
    "\n",
    "Start the personal VNC-server with vnc4server, e.g. on snow1\n",
    "\n",
    "    vnc4server  -geometry 1200x900\n",
    "\n",
    "Kill the server with\n",
    "\n",
    "    vnc4server -kill :1\n",
    "    \n",
    "### On the client (from outside network)\n",
    "\n",
    "Start the VNC client with\n",
    "\n",
    "    xvnc4viewer -via uxxxxxx@login.zmaw.de snow1:1\n",
    "\n"
   ]
  },
  {
   "cell_type": "markdown",
   "metadata": {
    "collapsed": true
   },
   "source": [
    "# Jupyter\n",
    "\n",
    "[Jupyter](https://github.com/LarsKaleschke/Python-Course/blob/master/Jupyter.ipynb)\n",
    " is excellent for remote access. Start a remote server somewhere and work on your client through a webbrowser.\n",
    "\n",
    " \n",
    "## Set up a secure ssh tunnel through firewall to a machine outside network\n",
    "\n",
    "You need to generate and install two private-public key pairs first (lookup ssh-keygen and ssh-copy-id). An additional password may cause trouble.\n",
    "\n",
    "Example: Jupyter notebook server is running on port 9000 on a compute server (snow1) behind a firewall server (login2). \n",
    "\n",
    "    ssh -L 9000:localhost:9000 uxxxxxx@login2.zmaw.de ssh -L 9000:localhost:9000 -N uxxxxxx@snow1.zmaw.de\n",
    "\n",
    "Start the ssh tunnel on your local machine outside the firewall and point your browser (e.g. firefox) to \n",
    "\n",
    "    https://localhost:9000/"
   ]
  },
  {
   "cell_type": "code",
   "execution_count": null,
   "metadata": {
    "collapsed": true
   },
   "outputs": [],
   "source": []
  }
 ],
 "metadata": {
  "kernelspec": {
   "display_name": "Python 3",
   "language": "python",
   "name": "python3"
  },
  "language_info": {
   "codemirror_mode": {
    "name": "ipython",
    "version": 3
   },
   "file_extension": ".py",
   "mimetype": "text/x-python",
   "name": "python",
   "nbconvert_exporter": "python",
   "pygments_lexer": "ipython3",
   "version": "3.6.3"
  }
 },
 "nbformat": 4,
 "nbformat_minor": 1
}
