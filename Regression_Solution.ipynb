{
 "cells": [
  {
   "cell_type": "markdown",
   "metadata": {},
   "source": [
    "# Exercise\n",
    "\n",
    "Write your own function for the linear regression.\n"
   ]
  },
  {
   "cell_type": "code",
   "execution_count": 25,
   "metadata": {
    "collapsed": false
   },
   "outputs": [
    {
     "name": "stdout",
     "output_type": "stream",
     "text": [
      "Populating the interactive namespace from numpy and matplotlib\n",
      "0.84905162144 0.143986840253\n"
     ]
    },
    {
     "data": {
      "image/png": "[encoded data removed]",
      "text/plain": [
       "<matplotlib.figure.Figure at 0x7febfe00c978>"
      ]
     },
     "metadata": {},
     "output_type": "display_data"
    }
   ],
   "source": [
    "%pylab inline\n",
    "def own_regression(x,d,s):\n",
    "    \"\"\"Calculate f = a * x + b for data points given through vectors \n",
    "        x_i, d_i +- s_i \n",
    "\n",
    "        In: \n",
    "            x X axis\n",
    "            d Y data\n",
    "            s Error\n",
    "        Out:\n",
    "            a_fit, b_fit\n",
    "    \"\"\"\n",
    "    alpha=sum(x**2/s**2)\n",
    "    beta=sum(x/s**2)\n",
    "    gamma=sum(x*d/s**2)\n",
    "    epsilon=sum(1/s**2)\n",
    "    delta=sum(d/s**2)\n",
    "    b_fit=(alpha*delta-beta*gamma)/(alpha*epsilon-beta**2)\n",
    "    a_fit=(gamma-beta*b_fit)/(alpha)\n",
    "    return a_fit, b_fit\n",
    "\n",
    "N=10 # Number of data points\n",
    "x=linspace(0,1,N) # N data points\n",
    "a,b=1.0,0.0 # Model parameter\n",
    "sigma=rand(N) # Random uncertainties for data values\n",
    "ye=randn(N)*sigma # Random data values\n",
    "d=a*x+b+ye # Linear relation + error\n",
    "\n",
    "a_fit,b_fit=own_regression(x,d,sigma)\n",
    "print(a_fit, b_fit)\n",
    "y=a_fit*x+b_fit\n",
    "errorbar(x,d,yerr=sigma,fmt='o')\n",
    "plot(x,y,'k-')\n",
    "ax=axis([-0.1,1.1,-3,3])"
   ]
  },
  {
   "cell_type": "code",
   "execution_count": null,
   "metadata": {
    "collapsed": true
   },
   "outputs": [],
   "source": []
  }
 ],
 "metadata": {
  "kernelspec": {
   "display_name": "Python 3",
   "language": "python",
   "name": "python3"
  },
  "language_info": {
   "codemirror_mode": {
    "name": "ipython",
    "version": 3
   },
   "file_extension": ".py",
   "mimetype": "text/x-python",
   "name": "python",
   "nbconvert_exporter": "python",
   "pygments_lexer": "ipython3",
   "version": "3.4.3"
  }
 },
 "nbformat": 4,
 "nbformat_minor": 0
}
