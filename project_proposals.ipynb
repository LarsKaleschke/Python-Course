{
 "cells": [
  {
   "cell_type": "code",
   "execution_count": null,
   "metadata": {
    "collapsed": false
   },
   "outputs": [],
   "source": [
    "%pylab inline\n",
    "import pandas as pd\n",
    "prjs=!ls /data/share/icdc/LEHRE/python/2018/projects/\n",
    "L=[]\n",
    "for p in prjs:\n",
    "    p0=p.replace('.pdf','')\n",
    "    L.append(p0)\n",
    "DF=pd.DataFrame({'Project Name':L,'Votes':zeros(len(L),dtype=int)})\n",
    "DF.to_csv('Projects.csv')\n",
    "DF"
   ]
  }
 ],
 "metadata": {
  "kernelspec": {
   "display_name": "Python 3",
   "language": "python",
   "name": "python3"
  },
  "language_info": {
   "codemirror_mode": {
    "name": "ipython",
    "version": 3
   },
   "file_extension": ".py",
   "mimetype": "text/x-python",
   "name": "python",
   "nbconvert_exporter": "python",
   "pygments_lexer": "ipython3",
   "version": "3.6.0"
  }
 },
 "nbformat": 4,
 "nbformat_minor": 2
}
