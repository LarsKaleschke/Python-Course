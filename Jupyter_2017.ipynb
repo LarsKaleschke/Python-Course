{
 "cells": [
  {
   "cell_type": "markdown",
   "metadata": {},
   "source": [
    "# Jupyter formerly known as IPython Notebooks \n",
    "\n",
    "The [Jupyter Notebook](http://jupyter.org/) is a web application that allows you to create and share documents that contain live code, equations, visualizations and explanatory text. Project Jupyter was born out of the IPython Project in 2014 as it evolved to support interactive data science and scientific computing across all programming languages.\n"
   ]
  },
  {
   "cell_type": "markdown",
   "metadata": {},
   "source": [
    "\n",
    "## Workflow\n",
    "\n",
    "The concept of Notebook workflow is different from the traditional development cycles and workflow. The idea of combining explanation and code in one document was already introduced earlier in the field of symbolic computation with Maple or Sagemath. Jupyter is independent of the programming language and widens the applicability.\n",
    "\n",
    "The traditional development concept relies on an [editor](https://wiki.python.org/moin/PythonEditors) or integrated development environment (IDE). With Jupyter you need no separate editor but only a suitable webbrowser (eg. firefox) which connects to a server process.\n",
    "\n",
    "If you want to use the notebook or traditional development approach depends on your specific problem. The notebook approach is quite useful for the development of small applications, data analysis documentation and for teaching while the traditional way is probably the better choice when developing large and complex codes.\n",
    "\n",
    "\n",
    "\n",
    "### CEN/Uni Hamburg specifics\n",
    "\n",
    "At first select Python version 3\n",
    "\n",
    "    module load  python3/3.6.0\n",
    "\n"
   ]
  },
  {
   "cell_type": "markdown",
   "metadata": {},
   "source": [
    "## Getting started \n",
    "\n",
    "You shall use firefox, other browsers might not work and cause errors. You should add this to your configuration file  with the following commands\n",
    "\n",
    "    \n",
    "    cd\n",
    "    mkdir .jupyter\n",
    "    echo \"c.NotebookApp.browser = 'firefox'\" >> .jupyter/jupyter_notebook_config.py\n",
    "\n",
    "\n",
    "Now you can start the server \n",
    "\n",
    "    jupyter-notebook  &\n"
   ]
  }
 ],
 "metadata": {
  "kernelspec": {
   "display_name": "Python 3",
   "language": "python",
   "name": "python3"
  },
  "language_info": {
   "codemirror_mode": {
    "name": "ipython",
    "version": 3
   },
   "file_extension": ".py",
   "mimetype": "text/x-python",
   "name": "python",
   "nbconvert_exporter": "python",
   "pygments_lexer": "ipython3",
   "version": "3.6.3"
  }
 },
 "nbformat": 4,
 "nbformat_minor": 1
}
