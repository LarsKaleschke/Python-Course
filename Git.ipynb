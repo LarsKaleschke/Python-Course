{
 "cells": [
  {
   "cell_type": "markdown",
   "metadata": {},
   "source": [
    "# Using Git Repository #\n",
    "\n",
    "From the [Git Book](http://git-scm.com/book/en/v2)\n",
    "\n",
    "  * Git saves all changes as a history of a project in a data base known as repository\n",
    "  * Git prevents you from data loss (except if you delete the repository) and keeps track of your work\n",
    "  * Git defines three states of a file: committed, modified and staged. \n",
    "   * „Committed“ means that the data are saved in a local data base. \n",
    "   * Modified means that a file has been change but changes are not yet committed. \n",
    "   * Staged means that a changed file is marked for the next commit.\n",
    "  * git help shows all commands\n",
    "  \n",
    "GitHub is a company that offers services related to Git. Setting up a repository at GitHub is easy thanks to the well designed user interfaces. A nice Github feature is that Jupyter notebooks can directly be displayed without using the extra notebook viewer.\n",
    "\n",
    "## Distributed version control\n",
    "\n",
    "<img src=\"https://git-scm.com/book/en/v2/images/distributed.png\">\n",
    "\n",
    "## Status of files\n",
    "\n",
    "<img src=\"https://git-scm.com/book/en/v2/images/lifecycle.png\">"
   ]
  },
  {
   "cell_type": "markdown",
   "metadata": {},
   "source": [
    "## Preliminaries ##\n",
    "\n",
    "We need a GitHub account and SSH key we follow this [description](https://help.github.com/articles/generating-ssh-keys/)"
   ]
  },
  {
   "cell_type": "code",
   "execution_count": 1,
   "metadata": {
    "collapsed": true
   },
   "outputs": [],
   "source": [
    "!git config --global user.name \"Your.Name\"\n",
    "!git config --global user.email \"Your Email\""
   ]
  },
  {
   "cell_type": "markdown",
   "metadata": {},
   "source": [
    "## Create a repository ##\n",
    "Create a [repository](https://help.github.com/articles/create-a-repo/) on GitHub.\n",
    "\n",
    "## Clone\n",
    "Clone the empty repository to the local file system. "
   ]
  },
  {
   "cell_type": "code",
   "execution_count": 2,
   "metadata": {},
   "outputs": [
    {
     "name": "stdout",
     "output_type": "stream",
     "text": [
      "Nach »github.com« wird geklont\n",
      "fatal: repository 'https://github.com/' not found\n"
     ]
    }
   ],
   "source": [
    "!git clone https://github.com/..."
   ]
  },
  {
   "cell_type": "markdown",
   "metadata": {},
   "source": [
    "## Add\n",
    "\n",
    "Add files to the version control. "
   ]
  },
  {
   "cell_type": "code",
   "execution_count": 10,
   "metadata": {
    "collapsed": true
   },
   "outputs": [],
   "source": [
    "!git add Git.ipynb"
   ]
  },
  {
   "cell_type": "markdown",
   "metadata": {},
   "source": [
    "## Commit\n",
    "\n",
    "Commit your changes. "
   ]
  },
  {
   "cell_type": "code",
   "execution_count": 5,
   "metadata": {},
   "outputs": [
    {
     "name": "stdout",
     "output_type": "stream",
     "text": [
      "[master f7383b0] Version 4\r\n",
      " 2 files changed, 38 insertions(+), 7 deletions(-)\r\n"
     ]
    }
   ],
   "source": [
    "!git commit -a -m \"Version 4\""
   ]
  },
  {
   "cell_type": "markdown",
   "metadata": {},
   "source": [
    "## Push\n",
    "\n",
    "Push files to the server."
   ]
  },
  {
   "cell_type": "code",
   "execution_count": 8,
   "metadata": {},
   "outputs": [
    {
     "name": "stdout",
     "output_type": "stream",
     "text": [
      "Counting objects: 8, done.\n",
      "Delta compression using up to 4 threads.\n",
      "Compressing objects: 100% (5/5), done.\n",
      "Writing objects: 100% (5/5), 290.06 KiB | 0 bytes/s, done.\n",
      "Total 5 (delta 2), reused 0 (delta 0)\n",
      "To https://github.com/LarsKaleschke/Python-Course.git\n",
      "   fca06a0..3c469bf  master -> master\n"
     ]
    }
   ],
   "source": [
    "!git push # Use the terminal (inside Jupyter) for this"
   ]
  }
 ],
 "metadata": {
  "kernelspec": {
   "display_name": "Python 3",
   "language": "python",
   "name": "python3"
  },
  "language_info": {
   "codemirror_mode": {
    "name": "ipython",
    "version": 3
   },
   "file_extension": ".py",
   "mimetype": "text/x-python",
   "name": "python",
   "nbconvert_exporter": "python",
   "pygments_lexer": "ipython3",
   "version": "3.6.3"
  }
 },
 "nbformat": 4,
 "nbformat_minor": 1
}
