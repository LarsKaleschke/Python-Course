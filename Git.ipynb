{
 "cells": [
  {
   "cell_type": "markdown",
   "metadata": {},
   "source": [
    "# Using Git Repository #\n",
    "\n",
    "From the [Git Book](http://git-scm.com/book/en/v1)\n",
    "\n",
    "  * Git saves all changes as a history of a project in a data base known as repository\n",
    "  * Git prevents you from data loss (except if you delete the repository) and keeps track of your work\n",
    "  * Git defines three states of a file: committed, modified and staged. „Committed“ means that the data are saved in a local data base. Modified means that a file has been change but changes are not yet committed. Staged means that a changed file is marked for the next committ.\n",
    "  * git help shows all commands\n",
    "  \n",
    "GitHub is a company that offers services related to Git. Setting up a repository at GitHub is easy thanks to the well designed user interfaces. A nice Github feature is that Jupyter notebooks can directly be displayed without using the extra notebook viewer."
   ]
  },
  {
   "cell_type": "markdown",
   "metadata": {},
   "source": [
    "## Preliminaries ##\n",
    "\n",
    "We need a GitHub account and SSH key we follow this [description](https://help.github.com/articles/generating-ssh-keys/)"
   ]
  },
  {
   "cell_type": "code",
   "execution_count": 1,
   "metadata": {
    "collapsed": true
   },
   "outputs": [],
   "source": [
    "!git config --global user.name \"LarsKaleschke\"\n",
    "!git config --global user.email \"lars.kaleschke@uni-hamburg.de\"\n",
    "!git config --global core.editor emacs # Your famous editor"
   ]
  },
  {
   "cell_type": "markdown",
   "metadata": {},
   "source": [
    "## Create a repository ##\n",
    "Create a [repository](https://help.github.com/articles/create-a-repo/) on GitHub."
   ]
  },
  {
   "cell_type": "code",
   "execution_count": 2,
   "metadata": {
    "collapsed": false
   },
   "outputs": [
    {
     "name": "stdout",
     "output_type": "stream",
     "text": [
      "Nach »github.com« wird geklont\n",
      "fatal: repository 'https://github.com/' not found\n"
     ]
    }
   ],
   "source": [
    "!git clone https://github.com/\n",
    "    "
   ]
  },
  {
   "cell_type": "code",
   "execution_count": 10,
   "metadata": {
    "collapsed": true
   },
   "outputs": [],
   "source": [
    "!git add Git.ipynb"
   ]
  },
  {
   "cell_type": "code",
   "execution_count": 3,
   "metadata": {
    "collapsed": false
   },
   "outputs": [
    {
     "name": "stdout",
     "output_type": "stream",
     "text": [
      "Auf Branch master\r\n",
      "Ihr Branch ist auf dem selben Stand wie 'origin/master'.\r\n",
      "\r\n",
      "Änderungen, die nicht zum Commit vorgemerkt sind:\r\n",
      "\t\u001b[31mgeändert:               Git.ipynb\u001b[m\r\n",
      "\t\u001b[31mgeändert:               Python3.ipynb\u001b[m\r\n",
      "\t\u001b[31mgeändert:               Tsunami.ipynb\u001b[m\r\n",
      "\t\u001b[31mgeändert:               num2date.ipynb\u001b[m\r\n",
      "\r\n",
      "Unbeobachtete Dateien:\r\n",
      "\t\u001b[31m.ipynb_checkpoints/\u001b[m\r\n",
      "\t\u001b[31mCell magic and Unix scripts.ipynb\u001b[m\r\n",
      "\t\u001b[31mGoogleTrends.ipynb\u001b[m\r\n",
      "\t\u001b[31mautoconfig.py\u001b[m\r\n",
      "\t\u001b[31mdata/\u001b[m\r\n",
      "\t\u001b[31mhello.py\u001b[m\r\n",
      "\t\u001b[31mmycert.pem\u001b[m\r\n",
      "\t\u001b[31mpasswd_config.ipynb\u001b[m\r\n",
      "\t\u001b[31mprivkey.pem\u001b[m\r\n",
      "\t\u001b[31mscript.py~\u001b[m\r\n",
      "\t\u001b[31mtrends_ipython.csv\u001b[m\r\n",
      "\t\u001b[31mtrends_ipython_notebook.csv\u001b[m\r\n",
      "\t\u001b[31mtrends_jupyter.csv\u001b[m\r\n",
      "\r\n",
      "keine Änderungen zum Commit vorgemerkt\r\n"
     ]
    }
   ],
   "source": [
    "!git commit -a -m \"Version 3\""
   ]
  },
  {
   "cell_type": "code",
   "execution_count": 17,
   "metadata": {
    "collapsed": false
   },
   "outputs": [
    {
     "name": "stdout",
     "output_type": "stream",
     "text": [
      "Username for 'https://github.com': ^C\n"
     ]
    }
   ],
   "source": [
    "!git push"
   ]
  },
  {
   "cell_type": "code",
   "execution_count": 6,
   "metadata": {
    "collapsed": true
   },
   "outputs": [],
   "source": [
    "!git add Python3.ipynb"
   ]
  },
  {
   "cell_type": "code",
   "execution_count": 8,
   "metadata": {
    "collapsed": true
   },
   "outputs": [],
   "source": [
    "!git add Course\\ overview.ipynb"
   ]
  },
  {
   "cell_type": "code",
   "execution_count": 12,
   "metadata": {
    "collapsed": true
   },
   "outputs": [],
   "source": [
    "!git add Tsunami.ipynb"
   ]
  },
  {
   "cell_type": "code",
   "execution_count": 3,
   "metadata": {
    "collapsed": true
   },
   "outputs": [],
   "source": [
    "!git add num2date.ipynb"
   ]
  },
  {
   "cell_type": "code",
   "execution_count": 4,
   "metadata": {
    "collapsed": false
   },
   "outputs": [],
   "source": [
    "!git add Sympy-Leastsquare.ipynb"
   ]
  },
  {
   "cell_type": "code",
   "execution_count": 6,
   "metadata": {
    "collapsed": true
   },
   "outputs": [],
   "source": [
    "!git add Regression_Solution.ipynb"
   ]
  },
  {
   "cell_type": "code",
   "execution_count": 12,
   "metadata": {
    "collapsed": false
   },
   "outputs": [
    {
     "name": "stdout",
     "output_type": "stream",
     "text": [
      "rm 'xray.ipynb'\r\n"
     ]
    }
   ],
   "source": [
    "!git rm -f xray.ipynb # num2date.ipynb can do the same without extra installation"
   ]
  },
  {
   "cell_type": "code",
   "execution_count": 1,
   "metadata": {
    "collapsed": true
   },
   "outputs": [],
   "source": [
    "!git add Jupyter.ipynb"
   ]
  },
  {
   "cell_type": "code",
   "execution_count": 4,
   "metadata": {
    "collapsed": true
   },
   "outputs": [],
   "source": [
    "!git add Exercise1.ipynb"
   ]
  },
  {
   "cell_type": "code",
   "execution_count": null,
   "metadata": {
    "collapsed": true
   },
   "outputs": [],
   "source": []
  }
 ],
 "metadata": {
  "kernelspec": {
   "display_name": "Python 3",
   "language": "python",
   "name": "python3"
  },
  "language_info": {
   "codemirror_mode": {
    "name": "ipython",
    "version": 3
   },
   "file_extension": ".py",
   "mimetype": "text/x-python",
   "name": "python",
   "nbconvert_exporter": "python",
   "pygments_lexer": "ipython3",
   "version": "3.4.3"
  }
 },
 "nbformat": 4,
 "nbformat_minor": 0
}
