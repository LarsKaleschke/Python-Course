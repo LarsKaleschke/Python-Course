{
 "cells": [
  {
   "cell_type": "markdown",
   "metadata": {},
   "source": [
    "# Using Git Repository #\n",
    "\n",
    "From the [Git Book](http://git-scm.com/book/en/v1)\n",
    "\n",
    "  * Git saves all changes as a history of a project in a data base known as repository\n",
    "  * Git prevents you from data loss (except if you delete the repository) and keeps track of your work\n",
    "  * Git defines three states of a file: committed, modified and staged. „Committed“ means that the data are saved in a local data base. Modified means that a file has been change but changes are not yet committed. Staged means that a changed file is marked for the next committ.\n",
    "  * git help shows all commands\n",
    "  "
   ]
  },
  {
   "cell_type": "markdown",
   "metadata": {},
   "source": [
    "## Preliminaries ##\n",
    "\n",
    "We need a GitHub account and SSH key we follow this [description](https://help.github.com/articles/generating-ssh-keys/)"
   ]
  },
  {
   "cell_type": "code",
   "execution_count": 1,
   "metadata": {
    "collapsed": true
   },
   "outputs": [],
   "source": [
    "!git config --global user.name \"Your Name\"\n",
    "!git config --global user.email \"Your Email\"\n",
    "!git config --global core.editor emacs # Your famous editor"
   ]
  },
  {
   "cell_type": "markdown",
   "metadata": {},
   "source": [
    "## Create a repository ##\n",
    "Create a [repository](https://help.github.com/articles/create-a-repo/) on GitHub."
   ]
  },
  {
   "cell_type": "code",
   "execution_count": 2,
   "metadata": {
    "collapsed": false
   },
   "outputs": [
    {
     "name": "stdout",
     "output_type": "stream",
     "text": [
      "Nach »github.com« wird geklont\n",
      "fatal: repository 'https://github.com/' not found\n"
     ]
    }
   ],
   "source": [
    "!git clone https://github.com/\n",
    "    "
   ]
  },
  {
   "cell_type": "code",
   "execution_count": 3,
   "metadata": {
    "collapsed": true
   },
   "outputs": [],
   "source": [
    "!git add Git.ipynb"
   ]
  },
  {
   "cell_type": "code",
   "execution_count": 4,
   "metadata": {
    "collapsed": false
   },
   "outputs": [
    {
     "name": "stdout",
     "output_type": "stream",
     "text": [
      "[master f5dd5a6] Version\r\n",
      " 1 file changed, 81 insertions(+)\r\n",
      " create mode 100644 Git.ipynb\r\n"
     ]
    }
   ],
   "source": [
    "!git commit -m \"Version \""
   ]
  },
  {
   "cell_type": "code",
   "execution_count": null,
   "metadata": {
    "collapsed": true
   },
   "outputs": [],
   "source": []
  }
 ],
 "metadata": {
  "kernelspec": {
   "display_name": "Python 2",
   "language": "python",
   "name": "python2"
  },
  "language_info": {
   "codemirror_mode": {
    "name": "ipython",
    "version": 2
   },
   "file_extension": ".py",
   "mimetype": "text/x-python",
   "name": "python",
   "nbconvert_exporter": "python",
   "pygments_lexer": "ipython2",
   "version": "2.7.6"
  }
 },
 "nbformat": 4,
 "nbformat_minor": 0
}
